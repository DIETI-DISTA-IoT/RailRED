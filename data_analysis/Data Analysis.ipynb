{
 "cells": [
  {
   "cell_type": "code",
   "execution_count": 219,
   "id": "f8796ac3-7e8c-49b4-9f69-8d30c699200e",
   "metadata": {
    "tags": []
   },
   "outputs": [],
   "source": [
    "# !pip install geopy"
   ]
  },
  {
   "cell_type": "code",
   "execution_count": 608,
   "id": "2accc9eb-f13b-4b87-9a6d-b5fc36b7f2d0",
   "metadata": {
    "tags": []
   },
   "outputs": [],
   "source": [
    "import pandas as pd\n",
    "import numpy as np\n",
    "from scipy import stats\n",
    "import matplotlib.pyplot as plt\n",
    "from geopy.distance import geodesic\n",
    "from tqdm.notebook import tqdm, trange\n",
    "from sklearn.decomposition import PCA\n",
    "import plotly.express as px\n",
    "from sklearn.cluster import KMeans\n",
    "\n",
    "from transformers import AutoTokenizer, AutoModelForCausalLM\n",
    "import torch"
   ]
  },
  {
   "cell_type": "code",
   "execution_count": 554,
   "id": "faeb5664-c6a6-4142-b34f-3b97429de87b",
   "metadata": {
    "tags": []
   },
   "outputs": [],
   "source": [
    "clusters_df = pd.read_csv('clusters.csv', sep=';')\n",
    "main_df = pd.read_csv('dataset.csv')"
   ]
  },
  {
   "cell_type": "markdown",
   "id": "a2192495-6bfa-462b-adf4-2d51b04b8585",
   "metadata": {
    "tags": []
   },
   "source": [
    "# Diving deep:"
   ]
  },
  {
   "cell_type": "code",
   "execution_count": 561,
   "id": "26bb3f25-a8d8-4587-b0b6-9ac92ef98de4",
   "metadata": {
    "tags": []
   },
   "outputs": [
    {
     "name": "stdout",
     "output_type": "stream",
     "text": [
      "signal classes count:\n"
     ]
    },
    {
     "data": {
      "text/plain": [
       "234"
      ]
     },
     "execution_count": 561,
     "metadata": {},
     "output_type": "execute_result"
    }
   ],
   "source": [
    "print(\"signal classes count:\")\n",
    "signals = clusters_df['Descrizione'].unique()\n",
    "len(signals)"
   ]
  },
  {
   "cell_type": "code",
   "execution_count": 560,
   "id": "3b834ee9-e5e5-4bd8-89c1-2e1e4486ec6a",
   "metadata": {
    "tags": []
   },
   "outputs": [
    {
     "data": {
      "application/vnd.jupyter.widget-view+json": {
       "model_id": "2cc6f9c5d930430e9484950e65f476f8",
       "version_major": 2,
       "version_minor": 0
      },
      "text/plain": [
       "Loading checkpoint shards:   0%|          | 0/8 [00:00<?, ?it/s]"
      ]
     },
     "metadata": {},
     "output_type": "display_data"
    }
   ],
   "source": [
    "tokenizer = AutoTokenizer.from_pretrained(\"google/gemma-2-9b\")\n",
    "model = AutoModelForCausalLM.from_pretrained(\n",
    "    \"google/gemma-2-9b\",\n",
    "    device_map=\"auto\",\n",
    "    torch_dtype=torch.float16\n",
    ")"
   ]
  },
  {
   "cell_type": "code",
   "execution_count": 566,
   "id": "aadd6d40-f257-4838-b5d4-e3de399f890d",
   "metadata": {
    "tags": []
   },
   "outputs": [],
   "source": [
    "signal_tokens_list = [tokenizer(signal, return_tensors='pt')['input_ids'] for signal in signals]"
   ]
  },
  {
   "cell_type": "code",
   "execution_count": 637,
   "id": "719bd749-19f3-4bfb-af8b-1d4b4609d05f",
   "metadata": {
    "tags": []
   },
   "outputs": [
    {
     "data": {
      "application/vnd.jupyter.widget-view+json": {
       "model_id": "f80042165a104402a9b9494547a4836d",
       "version_major": 2,
       "version_minor": 0
      },
      "text/plain": [
       "  0%|          | 0/234 [00:00<?, ?it/s]"
      ]
     },
     "metadata": {},
     "output_type": "display_data"
    }
   ],
   "source": [
    "embeddings = []\n",
    "\n",
    "with torch.no_grad():\n",
    "    for signal_tokens in tqdm(signal_tokens_list):\n",
    "        embeddings.append(model(signal_tokens,\n",
    "                        output_hidden_states=True)['hidden_states'][0][:,-1,:])\n",
    "\n",
    "embeddings = torch.vstack(embeddings).numpy()"
   ]
  },
  {
   "cell_type": "code",
   "execution_count": 638,
   "id": "58d5a155-b6e2-40e1-9862-86e06178abd4",
   "metadata": {
    "tags": []
   },
   "outputs": [],
   "source": [
    "# Determine the number of clusters (you may need to adjust this based on your data)\n",
    "num_clusters = 40  # Change this number based on your expected number of clusters\n",
    "\n",
    "# Apply K-Means clustering\n",
    "kmeans = KMeans(n_clusters=num_clusters, random_state=0, n_init='auto')\n",
    "clusters = kmeans.fit_predict(embeddings)"
   ]
  },
  {
   "cell_type": "code",
   "execution_count": 640,
   "id": "609b0aae-1e22-4f71-86c9-4f6932a4398b",
   "metadata": {
    "tags": []
   },
   "outputs": [],
   "source": [
    "pca = PCA(n_components=2)\n",
    "pca_result = pca.fit_transform(embeddings)"
   ]
  },
  {
   "cell_type": "code",
   "execution_count": 641,
   "id": "70fd0b19-84b4-47ab-8850-751a15806c79",
   "metadata": {
    "tags": []
   },
   "outputs": [
    {
     "data": {
      "application/vnd.plotly.v1+json": {
       "config": {
        "plotlyServerURL": "https://plot.ly"
       },
       "data": [
        {
         "hovertemplate": "<b>%{hovertext}</b><br><br>PCA1=%{x}<br>PCA2=%{y}<br>Cluster=%{marker.color}<extra></extra>",
         "hovertext": [
          "Guasto microswitch porta Gangway 2",
          "Cod. 03 Comando di frenatura da manipolatore attivo",
          "Cod. 13 Leva MC 6S01 non in trazione",
          "Cod. 04 Condotta Generale scarica",
          "Guasto microswitch porta Gangway",
          "Guasto microswitch porta Gangway 1",
          "Perdita di comunicazione con HVAC cabina M1",
          "Cod. 22 Manettino fuori coasting dopo taglio trazione",
          "H2O: FL1 - flusso circ. trattamento basso",
          "Guasto centralina idraulica TACU M3",
          "Direzione indietro in M1",
          "Direzione avanti in M8",
          "Linea treno Velocita' zero  attiva in M1-T4",
          "Linea treno Velocita' zero  attiva in M8-T5",
          "Cod. 08 Loop porte aperto",
          "Cod. 12 Rilascio Porte Sinistre Attivo",
          "Cod. 17 Filo treno Taglio Trazione non alimentato",
          "Cod. 01 Max fren. di servizio richiesta da segnalamento",
          "Cod. 05 Taglio trazione da SSB attivo",
          "Piastra ERTMS inserita in M1",
          "Direzione avanti in M1",
          "Direzione indietro in M8",
          "Frenatura di emergenza attivata da leva di frenatura in M8",
          "Cod. 18 Linea Emergenza Attiva",
          "Cod. 11 Rilascio Porte Destre Attivo",
          "Piastra ERTMS inserita in M8",
          "Frenatura di emergenza attivata da leva di frenatura in M1",
          "Cod 03. Treno in spegnimento",
          "Comando chiusura IR/IP da banco",
          "IR chiuso in cassa T2",
          "Cod 47. Line Voltage Type non 25KV",
          "Guasto microswitch porta interna 2",
          "Pressione CP sotto 8.5 bar in M8 (press. 9S14)",
          "Toilette fuori servizio veicolo T7",
          "Guasto valvola secondaria WC toilette T7",
          "Pantografo DC alto in T2",
          "Cod 01. Mancanza tensione di linea su treno locale",
          "Cod 40. Contattore 1Q1 non nello stato DC",
          "Pantografo DC alto in T7",
          "Cod. 10 Nessuna velocita' impostata",
          "Sforzo frenatura dinamica insufficiente in frenatura di servizio",
          "Apertura forz. contatt. Convert. Princip. DC",
          "Cod. 14 Nessuna direzione impostata",
          "Incongruenza BRAKE_STATUS_TL e manettino di frenatura M1",
          "Mancata ricezione R2 in CCU M1",
          "Mancata comunicazione WTB in CCU M1",
          "Stato STANDBY attivo",
          "Stato PARKING attivo",
          "Cod 68. Mancata comunic. WTB con semitreno remoto",
          "Cod. 15 Nessun banco abilitato",
          "Cod 45. Mancata comunic. WTB con semitreno remoto",
          "Incongruenza BRAKE_STATUS_TL e manettino di frenatura M8",
          "Cod. 02 Taglio trazione comandato da RCEC",
          "Rubinetto RIM 9S30 chiuso (valvola freni macchinista isolata man.)",
          "Perdita di comunicazione MVB con TCU M1",
          "Perdita di comunicazione MVB con TCU M3",
          "Pantografo AC alto in T2",
          "Cod 50. Assenza tensione 25KV",
          "Perdita di comunicazione con HVAC M3",
          "Perdita di comunicazione con HVAC T5",
          "Perdita di comunicazione con HVAC M6",
          "Perdita di comunicazione con HVAC T2",
          "Perdita di comunicazione con HVAC T7",
          "Perdita di comunicazione con HVAC T4",
          "Allarme blocco restato",
          "Mancata ricezione R2 in CCU M8",
          "Mancata comunicazione WTB in CCU M8",
          "IR chiuso in cassa T7",
          "Piastra abilitata in M1 con banco M1 disabilitato",
          "Mancata Comunicazione con LCU1",
          "Mancata Comunicazione con LCU2",
          "Mancata Comunicazione con LCU5",
          "Mancata Comunicazione con LCU3",
          "Mancata Comunicazione con LCU4",
          "Perdita di comunicazione MVB con TCU M6",
          "Perdita di comunicazione MVB con TCU M8",
          "Cod 15. Assenza di comunicazione tra LCU5 e CCU",
          "Avaria unita' pneum. gradino porta 1 M6",
          "Guasto sensore di pressione B46",
          "Livello olio basso nel compressore 1",
          "Livello olio basso nel compressore 2",
          "Cod. 20 Freno di stazionamento attivo (TT a 2 km/h)",
          "Nessuna tensione di linea",
          "Guasto pantografo 3kV in T7",
          "Guasto interruttore di isolamento 25 kV (stato)",
          "Nessun IR o IP chiuso",
          "Alta tensione non presente in M1-T4",
          "Alta tensione non presente in M8-T5",
          "Avaria PCU panto 3 kV T7",
          "Errore regolazione pressione di riferimento",
          "Cod 56. Apertura da TCU1  locale (M1)",
          "Cod 59. Apertura da TCU2 remota (M6)",
          "Cod 57. Apertura da TCU2  locale (M6)",
          "Cod 52. Comando apertura DC per guasto Pantografo",
          "Cod. 21 AT non presente",
          "Cod 22. Guasto centralina EPCU di controllo Pantografo",
          "Cod 60. Apertura per linea treno HW Opening TL\" a 1 senza alcuna TCU che alimenta la linea\"",
          "Cod 42. Pantografo DC non alto",
          "Nessun pantografo alto",
          "Intervento bordo sensibile toilette T2",
          "Guasto pressostato porta toilette T2",
          "Stato RUNNING attivo",
          "Pantografo AC alto in T7",
          "Cod 36. Banco non abilitato",
          "Cod 04. Banco non abilitato",
          "Frenatura di emergenza attivata da leva di trazione in M1",
          "Comando abbassamento panto da banco",
          "Cod 08. Comando abbassamento da selettore Panto",
          "Cod 16. Filo treno di abbassamento Panto Attivo",
          "Cod 07. Comando abbassamento panto richiesto da remoto",
          "Guasto rilascio porta sorvegliata 1 T2",
          "Avaria unita' pneum. gradino porta 4 M3",
          "Avaria unita' pneum. gradino porta 1 T5",
          "Guasto al sensore del damper Y70",
          "Guasto al sensore del damper Y75",
          "Comando alzamento panto da banco",
          "Guasto valvola primaria WC toilette T7",
          "Mancata apertura damper Y5_S",
          "Mancata chiusura damper S82",
          "Rilevata perdita nella condotta freno",
          "Rilevata perdita condotta freno e direzione marcia non in posizione neutra",
          "Guasto microswitch porta interna 1",
          "Mancata ricezione R1 in CCU M8",
          "Chiave di Banco inserita in M1",
          "Banco Abilitato M1",
          "Assistenza EP fuori servizio",
          "Guasto microswitch porta intermedia",
          "Guasto microswitch porta bar",
          "Mancata ricezione R1 in CCU M1",
          "Chiave di Banco inserita in M8",
          "Banco Abilitato M8",
          "Comando apertura IR/IP da banco",
          "Cod 28. Apertura Interruttore principale richiesto DRIVER da banco Abilitato",
          "Cod 13. Apertura IR/IP da TRAIN LINE",
          "Perdita di comunicazione con HVAC M1",
          "Perdita di comunicazione con HVAC M8",
          "Incongruenza contatti 1Q7 in T2 (11)",
          "Selezionata tensione 3 kV",
          "Guasto centralina idraulica TACU M8",
          "Cod. 19 Maniglia Allarme Passeggeri Attivata",
          "Avaria sistema antincendio",
          "Auto esclusione convertitore M1",
          "Comando apertura IR da TCU1 attivo",
          "Auto esclusione convertitore M3",
          "Comando apertura IR da TCU2 attivo",
          "Auto esclusione convertitore M6",
          "Comando apertura IR da TCU3 attivo",
          "Intervento 2F47 (Toilette) in T7",
          "Auto esclusione convertitore M8",
          "Comando apertura IR da TCU4 attivo",
          "Avvio centralina BCU M1",
          "Pressione serbatoio ausiliario fuori limite (carrello 1)",
          "Pressione serbatoio ausiliario fuori limite (carrello 2)",
          "Dispositivo 9S06 attivo (assistenza EP isolata)",
          "Avvio centralina BCU T2",
          "Avvio centralina BCU M3",
          "Avvio centralina BCU T4",
          "Avvio centralina BCU T5",
          "Avvio centralina BCU M6",
          "Avvio centralina BCU T7",
          "Avvio centralina BCU M8",
          "Press. Sospens. fuori range (carrello 2) DOWN",
          "Incorenza sts velocita' 0 porta 1 M1",
          "Incorenza sts velocita' 0 porta 2 M1",
          "Indebita eccitazione 10K19 veicolo T2",
          "Incorenza sts velocita' 0 porta 1 T2",
          "Incorenza sts velocita' 0 porta 2 T2",
          "Incorenza sts velocita' 0 porta 3 T2",
          "Incorenza sts velocita' 0 porta 4 T2",
          "Indebita eccitazione 10K19 veicolo M3",
          "Incorenza sts velocita' 0 porta 1 M3",
          "Incorenza sts velocita' 0 porta 2 M3",
          "Incorenza sts velocita' 0 porta 3 M3",
          "Incorenza sts velocita' 0 porta 4 M3",
          "Incorenza sts velocita' 0 porta 1 T4",
          "Incorenza sts velocita' 0 porta 2 T4",
          "Indebita eccitazione 10K19 veicolo T5",
          "Incorenza sts velocita' 0 porta 1 T5",
          "Incorenza sts velocita' 0 porta 2 T5",
          "Indebita eccitazione 10K19 veicolo M6",
          "Incorenza sts velocita' 0 porta 1 M6",
          "Incorenza sts velocita' 0 porta 2 M6",
          "Incorenza sts velocita' 0 porta 3 M6",
          "Incorenza sts velocita' 0 porta 4 M6",
          "Indebita eccitazione 10K19 veicolo T7",
          "Incorenza sts velocita' 0 porta 1 T7",
          "Incorenza sts velocita' 0 porta 2 T7",
          "Incorenza sts velocita' 0 porta 3 T7",
          "Incorenza sts velocita' 0 porta 4 T7",
          "Incorenza sts velocita' 0 porta 1 M8",
          "Incorenza sts velocita' 0 porta 2 M8",
          "Toilette fuori servizio veicolo T2",
          "Avvio diagnostica SMC",
          "Stato SLEEPING attivo",
          "Pressione CP sotto 7.5 bar in M1 (press. 9S13)",
          "Cod 41. Line Voltage Type non 3KV",
          "Press. Sospens. fuori range (carrello 1) DOWN",
          "Indebita eccitazione 10K19 veicolo T4",
          "Indebita eccitazione 10K19 veicolo M8",
          "Incoerenza loop e maniglie emg in M8",
          "Abbassamento pantogr. comandato da ERTMS",
          "Ingresso in POC",
          "Cod 09. Apertura Interruttore principale da ETCS",
          "Cod 57. Apertura da TCU2  locale (M3)",
          "Cod 58. Apertura da TCU1 remota (M8)",
          "Cod 56. Apertura da TCU1  locale (M8)",
          "Cod 12. Abbassamento Panto richiesto dal segnalamento",
          "Selezionata tensione 25 kV",
          "Cod 48. Pantografo AC non alto",
          "Cod 51. 1Q7 non nello stato di aperto",
          "Cod 55. Sezionatore 1Q7  non aperto in AC",
          "Cod 58. Apertura da TCU1 remota (M1)",
          "Mancata ricezione ds 200 da CCU",
          "Ventilazione di emergenza attiva",
          "Filtro aria fresca sporco",
          "Mancata chiusura damper Y5_S",
          "Porta interna 1 isolata",
          "Porta interna 2 isolata",
          "Interruttore Q51 aperto",
          "Guasto pantografo 3kV in T2",
          "Porta Gangway 2 isolata",
          "Avaria PCU panto 3 kV T2",
          "Piastra abilitata in M8 con banco M8 disabilitato",
          "Comando riconfigurazione e reset da banco",
          "Mancata segnalazione filata avaria PCU T2",
          "CCU: Mancata comunicazione MVB con la PCU T7",
          "Frenatura di emergenza attivata da leva di trazione in M8",
          "Frenatura pneumatica attiva in modalita' diversa da RUNNING",
          "Apertura forzata IP-IR per apertura Q1",
          "Cod 03. Apertura Interruttore principale richiesto da TCU1 M1",
          "Cod 39. Master Controller non in IDLE",
          "Cod 03. Apertura Interruttore principale richiesto da TCU1 M8",
          "Cod 59. Apertura da TCU2 remota (M3)",
          "Incongruenza contatti 1Q1 in M6 (00)"
         ],
         "legendgroup": "",
         "marker": {
          "color": [
           9,
           1,
           20,
           13,
           13,
           0,
           0,
           20,
           2,
           16,
           0,
           5,
           34,
           24,
           14,
           11,
           3,
           19,
           1,
           0,
           0,
           5,
           5,
           11,
           11,
           5,
           0,
           19,
           6,
           9,
           21,
           9,
           4,
           10,
           10,
           9,
           35,
           37,
           10,
           13,
           7,
           37,
           13,
           0,
           0,
           0,
           1,
           1,
           12,
           3,
           12,
           5,
           22,
           4,
           0,
           16,
           9,
           21,
           16,
           24,
           15,
           9,
           10,
           34,
           20,
           5,
           5,
           10,
           3,
           0,
           9,
           24,
           16,
           34,
           15,
           5,
           26,
           15,
           15,
           0,
           9,
           4,
           25,
           10,
           4,
           14,
           34,
           24,
           10,
           39,
           4,
           4,
           4,
           23,
           28,
           23,
           4,
           2,
           2,
           9,
           9,
           1,
           10,
           3,
           3,
           0,
           6,
           18,
           11,
           12,
           9,
           16,
           24,
           0,
           24,
           6,
           10,
           36,
           9,
           38,
           20,
           0,
           5,
           0,
           0,
           7,
           27,
           33,
           0,
           5,
           5,
           6,
           3,
           25,
           0,
           5,
           4,
           8,
           5,
           13,
           32,
           0,
           1,
           16,
           1,
           15,
           1,
           10,
           5,
           1,
           0,
           4,
           4,
           4,
           9,
           16,
           34,
           24,
           15,
           10,
           5,
           17,
           0,
           0,
           9,
           9,
           9,
           9,
           9,
           16,
           16,
           16,
           16,
           16,
           34,
           34,
           24,
           24,
           24,
           15,
           15,
           15,
           15,
           15,
           10,
           10,
           10,
           10,
           10,
           5,
           5,
           9,
           29,
           1,
           4,
           21,
           17,
           34,
           5,
           5,
           36,
           29,
           22,
           4,
           4,
           4,
           19,
           8,
           2,
           14,
           31,
           4,
           26,
           1,
           15,
           36,
           13,
           13,
           14,
           9,
           13,
           9,
           3,
           6,
           9,
           10,
           5,
           17,
           0,
           0,
           30,
           5,
           4,
           4
          ],
          "coloraxis": "coloraxis",
          "opacity": 0.6,
          "size": 10,
          "symbol": "circle"
         },
         "mode": "markers",
         "name": "",
         "orientation": "v",
         "showlegend": false,
         "type": "scatter",
         "x": [
          -43.08783724486782,
          102.92308904258907,
          51.58322844168359,
          23.913484410264715,
          17.700140969907434,
          -45.290867516758915,
          -45.290867516758915,
          51.58322844168357,
          65.37664456474687,
          -37.76978073634406,
          -45.290867516758915,
          -30.512556069619876,
          -34.5596886547923,
          -33.69600519138144,
          75.45108200545684,
          58.380683285083215,
          22.98506142580993,
          51.90165439972243,
          102.9230890425891,
          -45.290867516758915,
          -45.290867516758915,
          -30.512556069619876,
          -30.512556069619876,
          53.06602704759988,
          58.380683285083215,
          -30.512556069619876,
          -45.290867516758915,
          62.37318906484223,
          67.12823725288511,
          -43.08783724486792,
          60.40468413137538,
          -43.08783724486792,
          -14.905252021909119,
          -30.914939846220157,
          -30.914939846220157,
          -43.08783724486792,
          53.30791018640137,
          29.861110879612884,
          -30.914939846220157,
          15.958192080564602,
          76.75599641773853,
          29.861110879612884,
          15.958192080564602,
          -45.290867516758915,
          -45.290867516758915,
          -45.290867516758915,
          102.9230890425891,
          102.9230890425891,
          82.70147727771472,
          22.98506142580993,
          82.70147727771472,
          -30.512556069619876,
          21.763414244473122,
          17.098057046038335,
          -45.290867516758915,
          -37.76978073634406,
          -43.08783724486792,
          60.40468413137538,
          -37.76978073634406,
          -33.69600519138144,
          -31.133407566355178,
          -43.08783724486792,
          -30.914939846220157,
          -34.5596886547923,
          68.5193777000723,
          -30.512556069619876,
          -30.512556069619876,
          -30.914939846220157,
          22.98506142580993,
          -45.290867516758915,
          -43.08783724486792,
          -33.69600519138144,
          -37.76978073634406,
          -34.5596886547923,
          -31.133407566355178,
          -30.512556069619876,
          -2.638460618746604,
          -31.133407566355178,
          -31.133407566355178,
          -45.290867516758915,
          -43.08783724486792,
          -14.905252021909119,
          56.61266277628313,
          -30.914939846220157,
          -14.905252021909119,
          85.4800073677719,
          -34.5596886547923,
          -33.69600519138144,
          -30.914939846220157,
          77.0547780595115,
          -14.905252021909119,
          -14.905252021909119,
          -14.905252021909119,
          74.65096321066645,
          56.294561538853706,
          74.65096321066645,
          -11.574200433081716,
          49.04050567474802,
          49.04050567474802,
          -43.08783724486792,
          -43.08783724486792,
          102.9230890425891,
          -30.914939846220157,
          22.98506142580993,
          22.98506142580993,
          -45.290867516758915,
          67.12823725288511,
          65.55870488122855,
          58.380683285083215,
          82.70147727771472,
          -43.08783724486792,
          -37.76978073634406,
          -33.69600519138144,
          -31.69032476009659,
          -33.69600519138144,
          67.12823725288511,
          -30.914939846220157,
          -9.705619929393398,
          -43.08783724486792,
          70.72408804636487,
          56.80700668037085,
          -45.290867516758915,
          -30.512556069619876,
          -45.290867516758915,
          -45.290867516758915,
          76.75599641773853,
          74.61555279809049,
          16.796182396192176,
          -45.290867516758915,
          -30.512556069619876,
          -30.512556069619876,
          67.12823725288511,
          22.98506142580993,
          48.51483478062163,
          -45.290867516758915,
          -30.512556069619876,
          -14.905252021909119,
          78.9427430032983,
          -30.512556069619876,
          15.958192080564602,
          75.37423333410408,
          -45.290867516758915,
          102.9230890425891,
          -37.76978073634406,
          102.9230890425891,
          -31.133407566355178,
          102.9230890425891,
          -30.914939846220157,
          -30.512556069619876,
          102.9230890425891,
          -45.290867516758915,
          -14.905252021909119,
          -14.905252021909119,
          -14.905252021909119,
          -43.08783724486792,
          -37.76978073634406,
          -34.5596886547923,
          -33.69600519138144,
          -31.133407566355178,
          -30.914939846220157,
          -30.512556069619876,
          47.45366433812718,
          -45.290867516758915,
          -45.290867516758915,
          -43.08783724486792,
          -43.08783724486792,
          -43.08783724486792,
          -43.08783724486792,
          -43.08783724486792,
          -37.76978073634406,
          -37.76978073634406,
          -37.76978073634406,
          -37.76978073634406,
          -37.76978073634406,
          -34.5596886547923,
          -34.5596886547923,
          -33.69600519138144,
          -33.69600519138144,
          -33.69600519138144,
          -31.133407566355178,
          -31.133407566355178,
          -31.133407566355178,
          -31.133407566355178,
          -31.133407566355178,
          -30.914939846220157,
          -30.914939846220157,
          -30.914939846220157,
          -30.914939846220157,
          -30.914939846220157,
          -30.512556069619876,
          -30.512556069619876,
          -43.08783724486792,
          71.1758899761249,
          102.9230890425891,
          -14.905252021909119,
          60.40468413137538,
          47.45366433812718,
          -34.5596886547923,
          -30.512556069619876,
          -30.512556069619876,
          21.074702320586542,
          62.82032263648128,
          23.22625445076538,
          -14.905252021909119,
          -14.905252021909119,
          -14.905252021909119,
          51.90165439972243,
          78.9427430032983,
          49.04050567474802,
          75.45108200545684,
          25.026295252646577,
          -14.905252021909119,
          -2.638460618746604,
          97.43719595306727,
          -1.9071951259601092,
          -9.705619929393398,
          15.958192080564602,
          15.958192080564602,
          75.45108200545684,
          -43.08783724486792,
          15.958192080564602,
          -43.08783724486792,
          22.98506142580993,
          67.12823725288511,
          -43.08783724486792,
          -30.914939846220157,
          -30.512556069619876,
          64.47041224919951,
          -45.290867516758816,
          -45.290867516758816,
          79.68986525131264,
          -30.512556069619873,
          -14.905252021909108,
          -14.905252021909108
         ],
         "xaxis": "x",
         "y": [
          8.061427078027664,
          76.30561377950325,
          -16.1412267769453,
          -26.218360963132845,
          -21.0771132675133,
          9.425392643021983,
          9.425392643021983,
          -16.141226776945313,
          -15.17366750231739,
          8.565920727935996,
          9.425392643021983,
          8.070397734482162,
          7.036585921299592,
          7.227778666842707,
          19.218599410634933,
          -16.60872957614578,
          -36.026775484163736,
          -16.882933285066514,
          76.30561377950161,
          9.425392643021983,
          9.425392643021983,
          8.070397734482162,
          8.070397734482162,
          -17.315900426938228,
          -16.60872957614578,
          8.070397734482162,
          9.425392643021983,
          -15.906486979906065,
          -20.841598793684916,
          8.061427078027705,
          -30.148700779010774,
          8.061427078027705,
          -24.315937878408572,
          8.905329131401311,
          8.905329131401311,
          8.061427078027705,
          -26.869794938217566,
          -33.23083830674108,
          8.905329131401311,
          -35.32237816283125,
          10.064045654781927,
          -33.23083830674108,
          -35.32237816283125,
          9.425392643021983,
          9.425392643021983,
          9.425392643021983,
          76.30561377950161,
          76.30561377950161,
          14.308247872841214,
          -36.026775484163736,
          14.308247872841214,
          8.070397734482162,
          -20.488714625359133,
          -24.302859897497186,
          9.425392643021983,
          8.565920727935996,
          8.061427078027705,
          -30.148700779010774,
          8.565920727935996,
          7.227778666842707,
          7.779988252673039,
          8.061427078027705,
          8.905329131401311,
          7.036585921299592,
          -5.628996485621088,
          8.070397734482162,
          8.070397734482162,
          8.905329131401311,
          -36.026775484163736,
          9.425392643021983,
          8.061427078027705,
          7.227778666842707,
          8.565920727935996,
          7.036585921299592,
          7.779988252673039,
          8.070397734482162,
          -13.564437995662406,
          7.779988252673039,
          7.779988252673039,
          9.425392643021983,
          8.061427078027705,
          -24.315937878408572,
          -21.78291769523896,
          8.905329131401311,
          -24.315937878408572,
          35.03465728971473,
          7.036585921299592,
          7.227778666842707,
          8.905329131401311,
          13.421860131133554,
          -24.315937878408572,
          -24.315937878408572,
          -24.315937878408572,
          -10.945041962570201,
          -11.66502215467905,
          -10.945041962570201,
          -12.908236258815695,
          -25.392416437544405,
          -25.392416437544405,
          8.061427078027705,
          8.061427078027705,
          76.30561377950161,
          8.905329131401311,
          -36.026775484163736,
          -36.026775484163736,
          9.425392643021983,
          -20.841598793684916,
          -28.260370144614292,
          -16.60872957614578,
          14.308247872841214,
          8.061427078027705,
          8.565920727935996,
          7.227778666842707,
          2.5463074962478163,
          7.227778666842707,
          -20.841598793684916,
          8.905329131401311,
          -10.334597368757736,
          8.061427078027705,
          0.10777193120452642,
          -22.462112988061314,
          9.425392643021983,
          8.070397734482162,
          9.425392643021983,
          9.425392643021983,
          10.064045654781927,
          -16.95326869622259,
          -28.36274343298817,
          9.425392643021983,
          8.070397734482162,
          8.070397734482162,
          -20.841598793684916,
          -36.026775484163736,
          -21.49422843611919,
          9.425392643021983,
          8.070397734482162,
          -24.315937878408572,
          -30.95912110863022,
          8.070397734482162,
          -35.32237816283125,
          -12.52369526361959,
          9.425392643021983,
          76.30561377950161,
          8.565920727935996,
          76.30561377950161,
          7.779988252673039,
          76.30561377950161,
          8.905329131401311,
          8.070397734482162,
          76.30561377950161,
          9.425392643021983,
          -24.315937878408572,
          -24.315937878408572,
          -24.315937878408572,
          8.061427078027705,
          8.565920727935996,
          7.036585921299592,
          7.227778666842707,
          7.779988252673039,
          8.905329131401311,
          8.070397734482162,
          -16.29602086954597,
          9.425392643021983,
          9.425392643021983,
          8.061427078027705,
          8.061427078027705,
          8.061427078027705,
          8.061427078027705,
          8.061427078027705,
          8.565920727935996,
          8.565920727935996,
          8.565920727935996,
          8.565920727935996,
          8.565920727935996,
          7.036585921299592,
          7.036585921299592,
          7.227778666842707,
          7.227778666842707,
          7.227778666842707,
          7.779988252673039,
          7.779988252673039,
          7.779988252673039,
          7.779988252673039,
          7.779988252673039,
          8.905329131401311,
          8.905329131401311,
          8.905329131401311,
          8.905329131401311,
          8.905329131401311,
          8.070397734482162,
          8.070397734482162,
          8.061427078027705,
          -34.74585744243371,
          76.30561377950161,
          -24.315937878408572,
          -30.148700779010774,
          -16.29602086954597,
          7.036585921299592,
          8.070397734482162,
          8.070397734482162,
          -18.252590723439216,
          -39.25144547356897,
          -19.15373553554177,
          -24.315937878408572,
          -24.315937878408572,
          -24.315937878408572,
          -16.882933285066514,
          -30.95912110863022,
          -25.392416437544405,
          19.218599410634933,
          -30.045465110508065,
          -24.315937878408572,
          -13.564437995662406,
          62.81192112004886,
          -21.52064764233316,
          -10.334597368757736,
          -35.32237816283125,
          -35.32237816283125,
          19.218599410634933,
          8.061427078027705,
          -35.32237816283125,
          8.061427078027705,
          -36.026775484163736,
          -20.841598793684916,
          8.061427078027705,
          8.905329131401311,
          8.070397734482162,
          -8.170160699329536,
          9.425392643021974,
          9.425392643021974,
          -23.66544550643958,
          8.070397734482167,
          -24.31593787840862,
          -24.315937878408622
         ],
         "yaxis": "y"
        }
       ],
       "layout": {
        "autosize": true,
        "coloraxis": {
         "colorbar": {
          "title": {
           "text": "Cluster"
          }
         },
         "colorscale": [
          [
           0,
           "#0d0887"
          ],
          [
           0.1111111111111111,
           "#46039f"
          ],
          [
           0.2222222222222222,
           "#7201a8"
          ],
          [
           0.3333333333333333,
           "#9c179e"
          ],
          [
           0.4444444444444444,
           "#bd3786"
          ],
          [
           0.5555555555555556,
           "#d8576b"
          ],
          [
           0.6666666666666666,
           "#ed7953"
          ],
          [
           0.7777777777777778,
           "#fb9f3a"
          ],
          [
           0.8888888888888888,
           "#fdca26"
          ],
          [
           1,
           "#f0f921"
          ]
         ]
        },
        "hovermode": "closest",
        "legend": {
         "tracegroupgap": 0
        },
        "template": {
         "data": {
          "bar": [
           {
            "error_x": {
             "color": "#2a3f5f"
            },
            "error_y": {
             "color": "#2a3f5f"
            },
            "marker": {
             "line": {
              "color": "white",
              "width": 0.5
             },
             "pattern": {
              "fillmode": "overlay",
              "size": 10,
              "solidity": 0.2
             }
            },
            "type": "bar"
           }
          ],
          "barpolar": [
           {
            "marker": {
             "line": {
              "color": "white",
              "width": 0.5
             },
             "pattern": {
              "fillmode": "overlay",
              "size": 10,
              "solidity": 0.2
             }
            },
            "type": "barpolar"
           }
          ],
          "carpet": [
           {
            "aaxis": {
             "endlinecolor": "#2a3f5f",
             "gridcolor": "#C8D4E3",
             "linecolor": "#C8D4E3",
             "minorgridcolor": "#C8D4E3",
             "startlinecolor": "#2a3f5f"
            },
            "baxis": {
             "endlinecolor": "#2a3f5f",
             "gridcolor": "#C8D4E3",
             "linecolor": "#C8D4E3",
             "minorgridcolor": "#C8D4E3",
             "startlinecolor": "#2a3f5f"
            },
            "type": "carpet"
           }
          ],
          "choropleth": [
           {
            "colorbar": {
             "outlinewidth": 0,
             "ticks": ""
            },
            "type": "choropleth"
           }
          ],
          "contour": [
           {
            "colorbar": {
             "outlinewidth": 0,
             "ticks": ""
            },
            "colorscale": [
             [
              0,
              "#0d0887"
             ],
             [
              0.1111111111111111,
              "#46039f"
             ],
             [
              0.2222222222222222,
              "#7201a8"
             ],
             [
              0.3333333333333333,
              "#9c179e"
             ],
             [
              0.4444444444444444,
              "#bd3786"
             ],
             [
              0.5555555555555556,
              "#d8576b"
             ],
             [
              0.6666666666666666,
              "#ed7953"
             ],
             [
              0.7777777777777778,
              "#fb9f3a"
             ],
             [
              0.8888888888888888,
              "#fdca26"
             ],
             [
              1,
              "#f0f921"
             ]
            ],
            "type": "contour"
           }
          ],
          "contourcarpet": [
           {
            "colorbar": {
             "outlinewidth": 0,
             "ticks": ""
            },
            "type": "contourcarpet"
           }
          ],
          "heatmap": [
           {
            "colorbar": {
             "outlinewidth": 0,
             "ticks": ""
            },
            "colorscale": [
             [
              0,
              "#0d0887"
             ],
             [
              0.1111111111111111,
              "#46039f"
             ],
             [
              0.2222222222222222,
              "#7201a8"
             ],
             [
              0.3333333333333333,
              "#9c179e"
             ],
             [
              0.4444444444444444,
              "#bd3786"
             ],
             [
              0.5555555555555556,
              "#d8576b"
             ],
             [
              0.6666666666666666,
              "#ed7953"
             ],
             [
              0.7777777777777778,
              "#fb9f3a"
             ],
             [
              0.8888888888888888,
              "#fdca26"
             ],
             [
              1,
              "#f0f921"
             ]
            ],
            "type": "heatmap"
           }
          ],
          "heatmapgl": [
           {
            "colorbar": {
             "outlinewidth": 0,
             "ticks": ""
            },
            "colorscale": [
             [
              0,
              "#0d0887"
             ],
             [
              0.1111111111111111,
              "#46039f"
             ],
             [
              0.2222222222222222,
              "#7201a8"
             ],
             [
              0.3333333333333333,
              "#9c179e"
             ],
             [
              0.4444444444444444,
              "#bd3786"
             ],
             [
              0.5555555555555556,
              "#d8576b"
             ],
             [
              0.6666666666666666,
              "#ed7953"
             ],
             [
              0.7777777777777778,
              "#fb9f3a"
             ],
             [
              0.8888888888888888,
              "#fdca26"
             ],
             [
              1,
              "#f0f921"
             ]
            ],
            "type": "heatmapgl"
           }
          ],
          "histogram": [
           {
            "marker": {
             "pattern": {
              "fillmode": "overlay",
              "size": 10,
              "solidity": 0.2
             }
            },
            "type": "histogram"
           }
          ],
          "histogram2d": [
           {
            "colorbar": {
             "outlinewidth": 0,
             "ticks": ""
            },
            "colorscale": [
             [
              0,
              "#0d0887"
             ],
             [
              0.1111111111111111,
              "#46039f"
             ],
             [
              0.2222222222222222,
              "#7201a8"
             ],
             [
              0.3333333333333333,
              "#9c179e"
             ],
             [
              0.4444444444444444,
              "#bd3786"
             ],
             [
              0.5555555555555556,
              "#d8576b"
             ],
             [
              0.6666666666666666,
              "#ed7953"
             ],
             [
              0.7777777777777778,
              "#fb9f3a"
             ],
             [
              0.8888888888888888,
              "#fdca26"
             ],
             [
              1,
              "#f0f921"
             ]
            ],
            "type": "histogram2d"
           }
          ],
          "histogram2dcontour": [
           {
            "colorbar": {
             "outlinewidth": 0,
             "ticks": ""
            },
            "colorscale": [
             [
              0,
              "#0d0887"
             ],
             [
              0.1111111111111111,
              "#46039f"
             ],
             [
              0.2222222222222222,
              "#7201a8"
             ],
             [
              0.3333333333333333,
              "#9c179e"
             ],
             [
              0.4444444444444444,
              "#bd3786"
             ],
             [
              0.5555555555555556,
              "#d8576b"
             ],
             [
              0.6666666666666666,
              "#ed7953"
             ],
             [
              0.7777777777777778,
              "#fb9f3a"
             ],
             [
              0.8888888888888888,
              "#fdca26"
             ],
             [
              1,
              "#f0f921"
             ]
            ],
            "type": "histogram2dcontour"
           }
          ],
          "mesh3d": [
           {
            "colorbar": {
             "outlinewidth": 0,
             "ticks": ""
            },
            "type": "mesh3d"
           }
          ],
          "parcoords": [
           {
            "line": {
             "colorbar": {
              "outlinewidth": 0,
              "ticks": ""
             }
            },
            "type": "parcoords"
           }
          ],
          "pie": [
           {
            "automargin": true,
            "type": "pie"
           }
          ],
          "scatter": [
           {
            "fillpattern": {
             "fillmode": "overlay",
             "size": 10,
             "solidity": 0.2
            },
            "type": "scatter"
           }
          ],
          "scatter3d": [
           {
            "line": {
             "colorbar": {
              "outlinewidth": 0,
              "ticks": ""
             }
            },
            "marker": {
             "colorbar": {
              "outlinewidth": 0,
              "ticks": ""
             }
            },
            "type": "scatter3d"
           }
          ],
          "scattercarpet": [
           {
            "marker": {
             "colorbar": {
              "outlinewidth": 0,
              "ticks": ""
             }
            },
            "type": "scattercarpet"
           }
          ],
          "scattergeo": [
           {
            "marker": {
             "colorbar": {
              "outlinewidth": 0,
              "ticks": ""
             }
            },
            "type": "scattergeo"
           }
          ],
          "scattergl": [
           {
            "marker": {
             "colorbar": {
              "outlinewidth": 0,
              "ticks": ""
             }
            },
            "type": "scattergl"
           }
          ],
          "scattermapbox": [
           {
            "marker": {
             "colorbar": {
              "outlinewidth": 0,
              "ticks": ""
             }
            },
            "type": "scattermapbox"
           }
          ],
          "scatterpolar": [
           {
            "marker": {
             "colorbar": {
              "outlinewidth": 0,
              "ticks": ""
             }
            },
            "type": "scatterpolar"
           }
          ],
          "scatterpolargl": [
           {
            "marker": {
             "colorbar": {
              "outlinewidth": 0,
              "ticks": ""
             }
            },
            "type": "scatterpolargl"
           }
          ],
          "scatterternary": [
           {
            "marker": {
             "colorbar": {
              "outlinewidth": 0,
              "ticks": ""
             }
            },
            "type": "scatterternary"
           }
          ],
          "surface": [
           {
            "colorbar": {
             "outlinewidth": 0,
             "ticks": ""
            },
            "colorscale": [
             [
              0,
              "#0d0887"
             ],
             [
              0.1111111111111111,
              "#46039f"
             ],
             [
              0.2222222222222222,
              "#7201a8"
             ],
             [
              0.3333333333333333,
              "#9c179e"
             ],
             [
              0.4444444444444444,
              "#bd3786"
             ],
             [
              0.5555555555555556,
              "#d8576b"
             ],
             [
              0.6666666666666666,
              "#ed7953"
             ],
             [
              0.7777777777777778,
              "#fb9f3a"
             ],
             [
              0.8888888888888888,
              "#fdca26"
             ],
             [
              1,
              "#f0f921"
             ]
            ],
            "type": "surface"
           }
          ],
          "table": [
           {
            "cells": {
             "fill": {
              "color": "#EBF0F8"
             },
             "line": {
              "color": "white"
             }
            },
            "header": {
             "fill": {
              "color": "#C8D4E3"
             },
             "line": {
              "color": "white"
             }
            },
            "type": "table"
           }
          ]
         },
         "layout": {
          "annotationdefaults": {
           "arrowcolor": "#2a3f5f",
           "arrowhead": 0,
           "arrowwidth": 1
          },
          "autotypenumbers": "strict",
          "coloraxis": {
           "colorbar": {
            "outlinewidth": 0,
            "ticks": ""
           }
          },
          "colorscale": {
           "diverging": [
            [
             0,
             "#8e0152"
            ],
            [
             0.1,
             "#c51b7d"
            ],
            [
             0.2,
             "#de77ae"
            ],
            [
             0.3,
             "#f1b6da"
            ],
            [
             0.4,
             "#fde0ef"
            ],
            [
             0.5,
             "#f7f7f7"
            ],
            [
             0.6,
             "#e6f5d0"
            ],
            [
             0.7,
             "#b8e186"
            ],
            [
             0.8,
             "#7fbc41"
            ],
            [
             0.9,
             "#4d9221"
            ],
            [
             1,
             "#276419"
            ]
           ],
           "sequential": [
            [
             0,
             "#0d0887"
            ],
            [
             0.1111111111111111,
             "#46039f"
            ],
            [
             0.2222222222222222,
             "#7201a8"
            ],
            [
             0.3333333333333333,
             "#9c179e"
            ],
            [
             0.4444444444444444,
             "#bd3786"
            ],
            [
             0.5555555555555556,
             "#d8576b"
            ],
            [
             0.6666666666666666,
             "#ed7953"
            ],
            [
             0.7777777777777778,
             "#fb9f3a"
            ],
            [
             0.8888888888888888,
             "#fdca26"
            ],
            [
             1,
             "#f0f921"
            ]
           ],
           "sequentialminus": [
            [
             0,
             "#0d0887"
            ],
            [
             0.1111111111111111,
             "#46039f"
            ],
            [
             0.2222222222222222,
             "#7201a8"
            ],
            [
             0.3333333333333333,
             "#9c179e"
            ],
            [
             0.4444444444444444,
             "#bd3786"
            ],
            [
             0.5555555555555556,
             "#d8576b"
            ],
            [
             0.6666666666666666,
             "#ed7953"
            ],
            [
             0.7777777777777778,
             "#fb9f3a"
            ],
            [
             0.8888888888888888,
             "#fdca26"
            ],
            [
             1,
             "#f0f921"
            ]
           ]
          },
          "colorway": [
           "#636efa",
           "#EF553B",
           "#00cc96",
           "#ab63fa",
           "#FFA15A",
           "#19d3f3",
           "#FF6692",
           "#B6E880",
           "#FF97FF",
           "#FECB52"
          ],
          "font": {
           "color": "#2a3f5f"
          },
          "geo": {
           "bgcolor": "white",
           "lakecolor": "white",
           "landcolor": "white",
           "showlakes": true,
           "showland": true,
           "subunitcolor": "#C8D4E3"
          },
          "hoverlabel": {
           "align": "left"
          },
          "hovermode": "closest",
          "mapbox": {
           "style": "light"
          },
          "paper_bgcolor": "white",
          "plot_bgcolor": "white",
          "polar": {
           "angularaxis": {
            "gridcolor": "#EBF0F8",
            "linecolor": "#EBF0F8",
            "ticks": ""
           },
           "bgcolor": "white",
           "radialaxis": {
            "gridcolor": "#EBF0F8",
            "linecolor": "#EBF0F8",
            "ticks": ""
           }
          },
          "scene": {
           "xaxis": {
            "backgroundcolor": "white",
            "gridcolor": "#DFE8F3",
            "gridwidth": 2,
            "linecolor": "#EBF0F8",
            "showbackground": true,
            "ticks": "",
            "zerolinecolor": "#EBF0F8"
           },
           "yaxis": {
            "backgroundcolor": "white",
            "gridcolor": "#DFE8F3",
            "gridwidth": 2,
            "linecolor": "#EBF0F8",
            "showbackground": true,
            "ticks": "",
            "zerolinecolor": "#EBF0F8"
           },
           "zaxis": {
            "backgroundcolor": "white",
            "gridcolor": "#DFE8F3",
            "gridwidth": 2,
            "linecolor": "#EBF0F8",
            "showbackground": true,
            "ticks": "",
            "zerolinecolor": "#EBF0F8"
           }
          },
          "shapedefaults": {
           "line": {
            "color": "#2a3f5f"
           }
          },
          "ternary": {
           "aaxis": {
            "gridcolor": "#DFE8F3",
            "linecolor": "#A2B1C6",
            "ticks": ""
           },
           "baxis": {
            "gridcolor": "#DFE8F3",
            "linecolor": "#A2B1C6",
            "ticks": ""
           },
           "bgcolor": "white",
           "caxis": {
            "gridcolor": "#DFE8F3",
            "linecolor": "#A2B1C6",
            "ticks": ""
           }
          },
          "title": {
           "x": 0.05
          },
          "xaxis": {
           "automargin": true,
           "gridcolor": "#EBF0F8",
           "linecolor": "#EBF0F8",
           "ticks": "",
           "title": {
            "standoff": 15
           },
           "zerolinecolor": "#EBF0F8",
           "zerolinewidth": 2
          },
          "yaxis": {
           "automargin": true,
           "gridcolor": "#EBF0F8",
           "linecolor": "#EBF0F8",
           "ticks": "",
           "title": {
            "standoff": 15
           },
           "zerolinecolor": "#EBF0F8",
           "zerolinewidth": 2
          }
         }
        },
        "title": {
         "text": "PCA of Anomaly Descriptions"
        },
        "xaxis": {
         "anchor": "y",
         "autorange": true,
         "domain": [
          0,
          1
         ],
         "range": [
          -54.49323923163847,
          112.12546075746866
         ],
         "title": {
          "text": "PCA Component 1"
         },
         "type": "linear"
        },
        "yaxis": {
         "anchor": "x",
         "autorange": true,
         "domain": [
          0,
          1
         ],
         "range": [
          -51.03903847430042,
          88.0932067802347
         ],
         "title": {
          "text": "PCA Component 2"
         },
         "type": "linear"
        }
       }
      },
      "image/png": "[encoded data removed]",
      "text/html": [
       "<div>                            <div id=\"ae47e465-0120-40f3-9d25-6a5b9bdb2ddd\" class=\"plotly-graph-div\" style=\"height:525px; width:100%;\"></div>            <script type=\"text/javascript\">                require([\"plotly\"], function(Plotly) {                    window.PLOTLYENV=window.PLOTLYENV || {};                                    if (document.getElementById(\"ae47e465-0120-40f3-9d25-6a5b9bdb2ddd\")) {                    Plotly.newPlot(                        \"ae47e465-0120-40f3-9d25-6a5b9bdb2ddd\",                        [{\"hovertemplate\":\"\\u003cb\\u003e%{hovertext}\\u003c\\u002fb\\u003e\\u003cbr\\u003e\\u003cbr\\u003ePCA1=%{x}\\u003cbr\\u003ePCA2=%{y}\\u003cbr\\u003eCluster=%{marker.color}\\u003cextra\\u003e\\u003c\\u002fextra\\u003e\",\"hovertext\":[\"Guasto microswitch porta Gangway 2\",\"Cod. 03 Comando di frenatura da manipolatore attivo\",\"Cod. 13 Leva MC 6S01 non in trazione\",\"Cod. 04 Condotta Generale scarica\",\"Guasto microswitch porta Gangway\",\"Guasto microswitch porta Gangway 1\",\"Perdita di comunicazione con HVAC cabina M1\",\"Cod. 22 Manettino fuori coasting dopo taglio trazione\",\"H2O: FL1 - flusso circ. trattamento basso\",\"Guasto centralina idraulica TACU M3\",\"Direzione indietro in M1\",\"Direzione avanti in M8\",\"Linea treno Velocita' zero  attiva in M1-T4\",\"Linea treno Velocita' zero  attiva in M8-T5\",\"Cod. 08 Loop porte aperto\",\"Cod. 12 Rilascio Porte Sinistre Attivo\",\"Cod. 17 Filo treno Taglio Trazione non alimentato\",\"Cod. 01 Max fren. di servizio richiesta da segnalamento\",\"Cod. 05 Taglio trazione da SSB attivo\",\"Piastra ERTMS inserita in M1\",\"Direzione avanti in M1\",\"Direzione indietro in M8\",\"Frenatura di emergenza attivata da leva di frenatura in M8\",\"Cod. 18 Linea Emergenza Attiva\",\"Cod. 11 Rilascio Porte Destre Attivo\",\"Piastra ERTMS inserita in M8\",\"Frenatura di emergenza attivata da leva di frenatura in M1\",\"Cod 03. Treno in spegnimento\",\"Comando chiusura IR\\u002fIP da banco\",\"IR chiuso in cassa T2\",\"Cod 47. Line Voltage Type non 25KV\",\"Guasto microswitch porta interna 2\",\"Pressione CP sotto 8.5 bar in M8 (press. 9S14)\",\"Toilette fuori servizio veicolo T7\",\"Guasto valvola secondaria WC toilette T7\",\"Pantografo DC alto in T2\",\"Cod 01. Mancanza tensione di linea su treno locale\",\"Cod 40. Contattore 1Q1 non nello stato DC\",\"Pantografo DC alto in T7\",\"Cod. 10 Nessuna velocita' impostata\",\"Sforzo frenatura dinamica insufficiente in frenatura di servizio\",\"Apertura forz. contatt. Convert. Princip. DC\",\"Cod. 14 Nessuna direzione impostata\",\"Incongruenza BRAKE_STATUS_TL e manettino di frenatura M1\",\"Mancata ricezione R2 in CCU M1\",\"Mancata comunicazione WTB in CCU M1\",\"Stato STANDBY attivo\",\"Stato PARKING attivo\",\"Cod 68. Mancata comunic. WTB con semitreno remoto\",\"Cod. 15 Nessun banco abilitato\",\"Cod 45. Mancata comunic. WTB con semitreno remoto\",\"Incongruenza BRAKE_STATUS_TL e manettino di frenatura M8\",\"Cod. 02 Taglio trazione comandato da RCEC\",\"Rubinetto RIM 9S30 chiuso (valvola freni macchinista isolata man.)\",\"Perdita di comunicazione MVB con TCU M1\",\"Perdita di comunicazione MVB con TCU M3\",\"Pantografo AC alto in T2\",\"Cod 50. Assenza tensione 25KV\",\"Perdita di comunicazione con HVAC M3\",\"Perdita di comunicazione con HVAC T5\",\"Perdita di comunicazione con HVAC M6\",\"Perdita di comunicazione con HVAC T2\",\"Perdita di comunicazione con HVAC T7\",\"Perdita di comunicazione con HVAC T4\",\"Allarme blocco restato\",\"Mancata ricezione R2 in CCU M8\",\"Mancata comunicazione WTB in CCU M8\",\"IR chiuso in cassa T7\",\"Piastra abilitata in M1 con banco M1 disabilitato\",\"Mancata Comunicazione con LCU1\",\"Mancata Comunicazione con LCU2\",\"Mancata Comunicazione con LCU5\",\"Mancata Comunicazione con LCU3\",\"Mancata Comunicazione con LCU4\",\"Perdita di comunicazione MVB con TCU M6\",\"Perdita di comunicazione MVB con TCU M8\",\"Cod 15. Assenza di comunicazione tra LCU5 e CCU\",\"Avaria unita' pneum. gradino porta 1 M6\",\"Guasto sensore di pressione B46\",\"Livello olio basso nel compressore 1\",\"Livello olio basso nel compressore 2\",\"Cod. 20 Freno di stazionamento attivo (TT a 2 km\\u002fh)\",\"Nessuna tensione di linea\",\"Guasto pantografo 3kV in T7\",\"Guasto interruttore di isolamento 25 kV (stato)\",\"Nessun IR o IP chiuso\",\"Alta tensione non presente in M1-T4\",\"Alta tensione non presente in M8-T5\",\"Avaria PCU panto 3 kV T7\",\"Errore regolazione pressione di riferimento\",\"Cod 56. Apertura da TCU1  locale (M1)\",\"Cod 59. Apertura da TCU2 remota (M6)\",\"Cod 57. Apertura da TCU2  locale (M6)\",\"Cod 52. Comando apertura DC per guasto Pantografo\",\"Cod. 21 AT non presente\",\"Cod 22. Guasto centralina EPCU di controllo Pantografo\",\"Cod 60. Apertura per linea treno HW Opening TL\\\" a 1 senza alcuna TCU che alimenta la linea\\\"\",\"Cod 42. Pantografo DC non alto\",\"Nessun pantografo alto\",\"Intervento bordo sensibile toilette T2\",\"Guasto pressostato porta toilette T2\",\"Stato RUNNING attivo\",\"Pantografo AC alto in T7\",\"Cod 36. Banco non abilitato\",\"Cod 04. Banco non abilitato\",\"Frenatura di emergenza attivata da leva di trazione in M1\",\"Comando abbassamento panto da banco\",\"Cod 08. Comando abbassamento da selettore Panto\",\"Cod 16. Filo treno di abbassamento Panto Attivo\",\"Cod 07. Comando abbassamento panto richiesto da remoto\",\"Guasto rilascio porta sorvegliata 1 T2\",\"Avaria unita' pneum. gradino porta 4 M3\",\"Avaria unita' pneum. gradino porta 1 T5\",\"Guasto al sensore del damper Y70\",\"Guasto al sensore del damper Y75\",\"Comando alzamento panto da banco\",\"Guasto valvola primaria WC toilette T7\",\"Mancata apertura damper Y5_S\",\"Mancata chiusura damper S82\",\"Rilevata perdita nella condotta freno\",\"Rilevata perdita condotta freno e direzione marcia non in posizione neutra\",\"Guasto microswitch porta interna 1\",\"Mancata ricezione R1 in CCU M8\",\"Chiave di Banco inserita in M1\",\"Banco Abilitato M1\",\"Assistenza EP fuori servizio\",\"Guasto microswitch porta intermedia\",\"Guasto microswitch porta bar\",\"Mancata ricezione R1 in CCU M1\",\"Chiave di Banco inserita in M8\",\"Banco Abilitato M8\",\"Comando apertura IR\\u002fIP da banco\",\"Cod 28. Apertura Interruttore principale richiesto DRIVER da banco Abilitato\",\"Cod 13. Apertura IR\\u002fIP da TRAIN LINE\",\"Perdita di comunicazione con HVAC M1\",\"Perdita di comunicazione con HVAC M8\",\"Incongruenza contatti 1Q7 in T2 (11)\",\"Selezionata tensione 3 kV\",\"Guasto centralina idraulica TACU M8\",\"Cod. 19 Maniglia Allarme Passeggeri Attivata\",\"Avaria sistema antincendio\",\"Auto esclusione convertitore M1\",\"Comando apertura IR da TCU1 attivo\",\"Auto esclusione convertitore M3\",\"Comando apertura IR da TCU2 attivo\",\"Auto esclusione convertitore M6\",\"Comando apertura IR da TCU3 attivo\",\"Intervento 2F47 (Toilette) in T7\",\"Auto esclusione convertitore M8\",\"Comando apertura IR da TCU4 attivo\",\"Avvio centralina BCU M1\",\"Pressione serbatoio ausiliario fuori limite (carrello 1)\",\"Pressione serbatoio ausiliario fuori limite (carrello 2)\",\"Dispositivo 9S06 attivo (assistenza EP isolata)\",\"Avvio centralina BCU T2\",\"Avvio centralina BCU M3\",\"Avvio centralina BCU T4\",\"Avvio centralina BCU T5\",\"Avvio centralina BCU M6\",\"Avvio centralina BCU T7\",\"Avvio centralina BCU M8\",\"Press. Sospens. fuori range (carrello 2) DOWN\",\"Incorenza sts velocita' 0 porta 1 M1\",\"Incorenza sts velocita' 0 porta 2 M1\",\"Indebita eccitazione 10K19 veicolo T2\",\"Incorenza sts velocita' 0 porta 1 T2\",\"Incorenza sts velocita' 0 porta 2 T2\",\"Incorenza sts velocita' 0 porta 3 T2\",\"Incorenza sts velocita' 0 porta 4 T2\",\"Indebita eccitazione 10K19 veicolo M3\",\"Incorenza sts velocita' 0 porta 1 M3\",\"Incorenza sts velocita' 0 porta 2 M3\",\"Incorenza sts velocita' 0 porta 3 M3\",\"Incorenza sts velocita' 0 porta 4 M3\",\"Incorenza sts velocita' 0 porta 1 T4\",\"Incorenza sts velocita' 0 porta 2 T4\",\"Indebita eccitazione 10K19 veicolo T5\",\"Incorenza sts velocita' 0 porta 1 T5\",\"Incorenza sts velocita' 0 porta 2 T5\",\"Indebita eccitazione 10K19 veicolo M6\",\"Incorenza sts velocita' 0 porta 1 M6\",\"Incorenza sts velocita' 0 porta 2 M6\",\"Incorenza sts velocita' 0 porta 3 M6\",\"Incorenza sts velocita' 0 porta 4 M6\",\"Indebita eccitazione 10K19 veicolo T7\",\"Incorenza sts velocita' 0 porta 1 T7\",\"Incorenza sts velocita' 0 porta 2 T7\",\"Incorenza sts velocita' 0 porta 3 T7\",\"Incorenza sts velocita' 0 porta 4 T7\",\"Incorenza sts velocita' 0 porta 1 M8\",\"Incorenza sts velocita' 0 porta 2 M8\",\"Toilette fuori servizio veicolo T2\",\"Avvio diagnostica SMC\",\"Stato SLEEPING attivo\",\"Pressione CP sotto 7.5 bar in M1 (press. 9S13)\",\"Cod 41. Line Voltage Type non 3KV\",\"Press. Sospens. fuori range (carrello 1) DOWN\",\"Indebita eccitazione 10K19 veicolo T4\",\"Indebita eccitazione 10K19 veicolo M8\",\"Incoerenza loop e maniglie emg in M8\",\"Abbassamento pantogr. comandato da ERTMS\",\"Ingresso in POC\",\"Cod 09. Apertura Interruttore principale da ETCS\",\"Cod 57. Apertura da TCU2  locale (M3)\",\"Cod 58. Apertura da TCU1 remota (M8)\",\"Cod 56. Apertura da TCU1  locale (M8)\",\"Cod 12. Abbassamento Panto richiesto dal segnalamento\",\"Selezionata tensione 25 kV\",\"Cod 48. Pantografo AC non alto\",\"Cod 51. 1Q7 non nello stato di aperto\",\"Cod 55. Sezionatore 1Q7  non aperto in AC\",\"Cod 58. Apertura da TCU1 remota (M1)\",\"Mancata ricezione ds 200 da CCU\",\"Ventilazione di emergenza attiva\",\"Filtro aria fresca sporco\",\"Mancata chiusura damper Y5_S\",\"Porta interna 1 isolata\",\"Porta interna 2 isolata\",\"Interruttore Q51 aperto\",\"Guasto pantografo 3kV in T2\",\"Porta Gangway 2 isolata\",\"Avaria PCU panto 3 kV T2\",\"Piastra abilitata in M8 con banco M8 disabilitato\",\"Comando riconfigurazione e reset da banco\",\"Mancata segnalazione filata avaria PCU T2\",\"CCU: Mancata comunicazione MVB con la PCU T7\",\"Frenatura di emergenza attivata da leva di trazione in M8\",\"Frenatura pneumatica attiva in modalita' diversa da RUNNING\",\"Apertura forzata IP-IR per apertura Q1\",\"Cod 03. Apertura Interruttore principale richiesto da TCU1 M1\",\"Cod 39. Master Controller non in IDLE\",\"Cod 03. Apertura Interruttore principale richiesto da TCU1 M8\",\"Cod 59. Apertura da TCU2 remota (M3)\",\"Incongruenza contatti 1Q1 in M6 (00)\"],\"legendgroup\":\"\",\"marker\":{\"color\":[9,1,20,13,13,0,0,20,2,16,0,5,34,24,14,11,3,19,1,0,0,5,5,11,11,5,0,19,6,9,21,9,4,10,10,9,35,37,10,13,7,37,13,0,0,0,1,1,12,3,12,5,22,4,0,16,9,21,16,24,15,9,10,34,20,5,5,10,3,0,9,24,16,34,15,5,26,15,15,0,9,4,25,10,4,14,34,24,10,39,4,4,4,23,28,23,4,2,2,9,9,1,10,3,3,0,6,18,11,12,9,16,24,0,24,6,10,36,9,38,20,0,5,0,0,7,27,33,0,5,5,6,3,25,0,5,4,8,5,13,32,0,1,16,1,15,1,10,5,1,0,4,4,4,9,16,34,24,15,10,5,17,0,0,9,9,9,9,9,16,16,16,16,16,34,34,24,24,24,15,15,15,15,15,10,10,10,10,10,5,5,9,29,1,4,21,17,34,5,5,36,29,22,4,4,4,19,8,2,14,31,4,26,1,15,36,13,13,14,9,13,9,3,6,9,10,5,17,0,0,30,5,4,4],\"coloraxis\":\"coloraxis\",\"symbol\":\"circle\",\"opacity\":0.6,\"size\":10},\"mode\":\"markers\",\"name\":\"\",\"orientation\":\"v\",\"showlegend\":false,\"x\":[-43.08783724486782,102.92308904258907,51.58322844168359,23.913484410264715,17.700140969907434,-45.290867516758915,-45.290867516758915,51.58322844168357,65.37664456474687,-37.76978073634406,-45.290867516758915,-30.512556069619876,-34.5596886547923,-33.69600519138144,75.45108200545684,58.380683285083215,22.98506142580993,51.90165439972243,102.9230890425891,-45.290867516758915,-45.290867516758915,-30.512556069619876,-30.512556069619876,53.06602704759988,58.380683285083215,-30.512556069619876,-45.290867516758915,62.37318906484223,67.12823725288511,-43.08783724486792,60.40468413137538,-43.08783724486792,-14.905252021909119,-30.914939846220157,-30.914939846220157,-43.08783724486792,53.30791018640137,29.861110879612884,-30.914939846220157,15.958192080564602,76.75599641773853,29.861110879612884,15.958192080564602,-45.290867516758915,-45.290867516758915,-45.290867516758915,102.9230890425891,102.9230890425891,82.70147727771472,22.98506142580993,82.70147727771472,-30.512556069619876,21.763414244473122,17.098057046038335,-45.290867516758915,-37.76978073634406,-43.08783724486792,60.40468413137538,-37.76978073634406,-33.69600519138144,-31.133407566355178,-43.08783724486792,-30.914939846220157,-34.5596886547923,68.5193777000723,-30.512556069619876,-30.512556069619876,-30.914939846220157,22.98506142580993,-45.290867516758915,-43.08783724486792,-33.69600519138144,-37.76978073634406,-34.5596886547923,-31.133407566355178,-30.512556069619876,-2.638460618746604,-31.133407566355178,-31.133407566355178,-45.290867516758915,-43.08783724486792,-14.905252021909119,56.61266277628313,-30.914939846220157,-14.905252021909119,85.4800073677719,-34.5596886547923,-33.69600519138144,-30.914939846220157,77.0547780595115,-14.905252021909119,-14.905252021909119,-14.905252021909119,74.65096321066645,56.294561538853706,74.65096321066645,-11.574200433081716,49.04050567474802,49.04050567474802,-43.08783724486792,-43.08783724486792,102.9230890425891,-30.914939846220157,22.98506142580993,22.98506142580993,-45.290867516758915,67.12823725288511,65.55870488122855,58.380683285083215,82.70147727771472,-43.08783724486792,-37.76978073634406,-33.69600519138144,-31.69032476009659,-33.69600519138144,67.12823725288511,-30.914939846220157,-9.705619929393398,-43.08783724486792,70.72408804636487,56.80700668037085,-45.290867516758915,-30.512556069619876,-45.290867516758915,-45.290867516758915,76.75599641773853,74.61555279809049,16.796182396192176,-45.290867516758915,-30.512556069619876,-30.512556069619876,67.12823725288511,22.98506142580993,48.51483478062163,-45.290867516758915,-30.512556069619876,-14.905252021909119,78.9427430032983,-30.512556069619876,15.958192080564602,75.37423333410408,-45.290867516758915,102.9230890425891,-37.76978073634406,102.9230890425891,-31.133407566355178,102.9230890425891,-30.914939846220157,-30.512556069619876,102.9230890425891,-45.290867516758915,-14.905252021909119,-14.905252021909119,-14.905252021909119,-43.08783724486792,-37.76978073634406,-34.5596886547923,-33.69600519138144,-31.133407566355178,-30.914939846220157,-30.512556069619876,47.45366433812718,-45.290867516758915,-45.290867516758915,-43.08783724486792,-43.08783724486792,-43.08783724486792,-43.08783724486792,-43.08783724486792,-37.76978073634406,-37.76978073634406,-37.76978073634406,-37.76978073634406,-37.76978073634406,-34.5596886547923,-34.5596886547923,-33.69600519138144,-33.69600519138144,-33.69600519138144,-31.133407566355178,-31.133407566355178,-31.133407566355178,-31.133407566355178,-31.133407566355178,-30.914939846220157,-30.914939846220157,-30.914939846220157,-30.914939846220157,-30.914939846220157,-30.512556069619876,-30.512556069619876,-43.08783724486792,71.1758899761249,102.9230890425891,-14.905252021909119,60.40468413137538,47.45366433812718,-34.5596886547923,-30.512556069619876,-30.512556069619876,21.074702320586542,62.82032263648128,23.22625445076538,-14.905252021909119,-14.905252021909119,-14.905252021909119,51.90165439972243,78.9427430032983,49.04050567474802,75.45108200545684,25.026295252646577,-14.905252021909119,-2.638460618746604,97.43719595306727,-1.9071951259601092,-9.705619929393398,15.958192080564602,15.958192080564602,75.45108200545684,-43.08783724486792,15.958192080564602,-43.08783724486792,22.98506142580993,67.12823725288511,-43.08783724486792,-30.914939846220157,-30.512556069619876,64.47041224919951,-45.290867516758816,-45.290867516758816,79.68986525131264,-30.512556069619873,-14.905252021909108,-14.905252021909108],\"xaxis\":\"x\",\"y\":[8.061427078027664,76.30561377950325,-16.1412267769453,-26.218360963132845,-21.0771132675133,9.425392643021983,9.425392643021983,-16.141226776945313,-15.17366750231739,8.565920727935996,9.425392643021983,8.070397734482162,7.036585921299592,7.227778666842707,19.218599410634933,-16.60872957614578,-36.026775484163736,-16.882933285066514,76.30561377950161,9.425392643021983,9.425392643021983,8.070397734482162,8.070397734482162,-17.315900426938228,-16.60872957614578,8.070397734482162,9.425392643021983,-15.906486979906065,-20.841598793684916,8.061427078027705,-30.148700779010774,8.061427078027705,-24.315937878408572,8.905329131401311,8.905329131401311,8.061427078027705,-26.869794938217566,-33.23083830674108,8.905329131401311,-35.32237816283125,10.064045654781927,-33.23083830674108,-35.32237816283125,9.425392643021983,9.425392643021983,9.425392643021983,76.30561377950161,76.30561377950161,14.308247872841214,-36.026775484163736,14.308247872841214,8.070397734482162,-20.488714625359133,-24.302859897497186,9.425392643021983,8.565920727935996,8.061427078027705,-30.148700779010774,8.565920727935996,7.227778666842707,7.779988252673039,8.061427078027705,8.905329131401311,7.036585921299592,-5.628996485621088,8.070397734482162,8.070397734482162,8.905329131401311,-36.026775484163736,9.425392643021983,8.061427078027705,7.227778666842707,8.565920727935996,7.036585921299592,7.779988252673039,8.070397734482162,-13.564437995662406,7.779988252673039,7.779988252673039,9.425392643021983,8.061427078027705,-24.315937878408572,-21.78291769523896,8.905329131401311,-24.315937878408572,35.03465728971473,7.036585921299592,7.227778666842707,8.905329131401311,13.421860131133554,-24.315937878408572,-24.315937878408572,-24.315937878408572,-10.945041962570201,-11.66502215467905,-10.945041962570201,-12.908236258815695,-25.392416437544405,-25.392416437544405,8.061427078027705,8.061427078027705,76.30561377950161,8.905329131401311,-36.026775484163736,-36.026775484163736,9.425392643021983,-20.841598793684916,-28.260370144614292,-16.60872957614578,14.308247872841214,8.061427078027705,8.565920727935996,7.227778666842707,2.5463074962478163,7.227778666842707,-20.841598793684916,8.905329131401311,-10.334597368757736,8.061427078027705,0.10777193120452642,-22.462112988061314,9.425392643021983,8.070397734482162,9.425392643021983,9.425392643021983,10.064045654781927,-16.95326869622259,-28.36274343298817,9.425392643021983,8.070397734482162,8.070397734482162,-20.841598793684916,-36.026775484163736,-21.49422843611919,9.425392643021983,8.070397734482162,-24.315937878408572,-30.95912110863022,8.070397734482162,-35.32237816283125,-12.52369526361959,9.425392643021983,76.30561377950161,8.565920727935996,76.30561377950161,7.779988252673039,76.30561377950161,8.905329131401311,8.070397734482162,76.30561377950161,9.425392643021983,-24.315937878408572,-24.315937878408572,-24.315937878408572,8.061427078027705,8.565920727935996,7.036585921299592,7.227778666842707,7.779988252673039,8.905329131401311,8.070397734482162,-16.29602086954597,9.425392643021983,9.425392643021983,8.061427078027705,8.061427078027705,8.061427078027705,8.061427078027705,8.061427078027705,8.565920727935996,8.565920727935996,8.565920727935996,8.565920727935996,8.565920727935996,7.036585921299592,7.036585921299592,7.227778666842707,7.227778666842707,7.227778666842707,7.779988252673039,7.779988252673039,7.779988252673039,7.779988252673039,7.779988252673039,8.905329131401311,8.905329131401311,8.905329131401311,8.905329131401311,8.905329131401311,8.070397734482162,8.070397734482162,8.061427078027705,-34.74585744243371,76.30561377950161,-24.315937878408572,-30.148700779010774,-16.29602086954597,7.036585921299592,8.070397734482162,8.070397734482162,-18.252590723439216,-39.25144547356897,-19.15373553554177,-24.315937878408572,-24.315937878408572,-24.315937878408572,-16.882933285066514,-30.95912110863022,-25.392416437544405,19.218599410634933,-30.045465110508065,-24.315937878408572,-13.564437995662406,62.81192112004886,-21.52064764233316,-10.334597368757736,-35.32237816283125,-35.32237816283125,19.218599410634933,8.061427078027705,-35.32237816283125,8.061427078027705,-36.026775484163736,-20.841598793684916,8.061427078027705,8.905329131401311,8.070397734482162,-8.170160699329536,9.425392643021974,9.425392643021974,-23.66544550643958,8.070397734482167,-24.31593787840862,-24.315937878408622],\"yaxis\":\"y\",\"type\":\"scatter\"}],                        {\"template\":{\"data\":{\"barpolar\":[{\"marker\":{\"line\":{\"color\":\"white\",\"width\":0.5},\"pattern\":{\"fillmode\":\"overlay\",\"size\":10,\"solidity\":0.2}},\"type\":\"barpolar\"}],\"bar\":[{\"error_x\":{\"color\":\"#2a3f5f\"},\"error_y\":{\"color\":\"#2a3f5f\"},\"marker\":{\"line\":{\"color\":\"white\",\"width\":0.5},\"pattern\":{\"fillmode\":\"overlay\",\"size\":10,\"solidity\":0.2}},\"type\":\"bar\"}],\"carpet\":[{\"aaxis\":{\"endlinecolor\":\"#2a3f5f\",\"gridcolor\":\"#C8D4E3\",\"linecolor\":\"#C8D4E3\",\"minorgridcolor\":\"#C8D4E3\",\"startlinecolor\":\"#2a3f5f\"},\"baxis\":{\"endlinecolor\":\"#2a3f5f\",\"gridcolor\":\"#C8D4E3\",\"linecolor\":\"#C8D4E3\",\"minorgridcolor\":\"#C8D4E3\",\"startlinecolor\":\"#2a3f5f\"},\"type\":\"carpet\"}],\"choropleth\":[{\"colorbar\":{\"outlinewidth\":0,\"ticks\":\"\"},\"type\":\"choropleth\"}],\"contourcarpet\":[{\"colorbar\":{\"outlinewidth\":0,\"ticks\":\"\"},\"type\":\"contourcarpet\"}],\"contour\":[{\"colorbar\":{\"outlinewidth\":0,\"ticks\":\"\"},\"colorscale\":[[0.0,\"#0d0887\"],[0.1111111111111111,\"#46039f\"],[0.2222222222222222,\"#7201a8\"],[0.3333333333333333,\"#9c179e\"],[0.4444444444444444,\"#bd3786\"],[0.5555555555555556,\"#d8576b\"],[0.6666666666666666,\"#ed7953\"],[0.7777777777777778,\"#fb9f3a\"],[0.8888888888888888,\"#fdca26\"],[1.0,\"#f0f921\"]],\"type\":\"contour\"}],\"heatmapgl\":[{\"colorbar\":{\"outlinewidth\":0,\"ticks\":\"\"},\"colorscale\":[[0.0,\"#0d0887\"],[0.1111111111111111,\"#46039f\"],[0.2222222222222222,\"#7201a8\"],[0.3333333333333333,\"#9c179e\"],[0.4444444444444444,\"#bd3786\"],[0.5555555555555556,\"#d8576b\"],[0.6666666666666666,\"#ed7953\"],[0.7777777777777778,\"#fb9f3a\"],[0.8888888888888888,\"#fdca26\"],[1.0,\"#f0f921\"]],\"type\":\"heatmapgl\"}],\"heatmap\":[{\"colorbar\":{\"outlinewidth\":0,\"ticks\":\"\"},\"colorscale\":[[0.0,\"#0d0887\"],[0.1111111111111111,\"#46039f\"],[0.2222222222222222,\"#7201a8\"],[0.3333333333333333,\"#9c179e\"],[0.4444444444444444,\"#bd3786\"],[0.5555555555555556,\"#d8576b\"],[0.6666666666666666,\"#ed7953\"],[0.7777777777777778,\"#fb9f3a\"],[0.8888888888888888,\"#fdca26\"],[1.0,\"#f0f921\"]],\"type\":\"heatmap\"}],\"histogram2dcontour\":[{\"colorbar\":{\"outlinewidth\":0,\"ticks\":\"\"},\"colorscale\":[[0.0,\"#0d0887\"],[0.1111111111111111,\"#46039f\"],[0.2222222222222222,\"#7201a8\"],[0.3333333333333333,\"#9c179e\"],[0.4444444444444444,\"#bd3786\"],[0.5555555555555556,\"#d8576b\"],[0.6666666666666666,\"#ed7953\"],[0.7777777777777778,\"#fb9f3a\"],[0.8888888888888888,\"#fdca26\"],[1.0,\"#f0f921\"]],\"type\":\"histogram2dcontour\"}],\"histogram2d\":[{\"colorbar\":{\"outlinewidth\":0,\"ticks\":\"\"},\"colorscale\":[[0.0,\"#0d0887\"],[0.1111111111111111,\"#46039f\"],[0.2222222222222222,\"#7201a8\"],[0.3333333333333333,\"#9c179e\"],[0.4444444444444444,\"#bd3786\"],[0.5555555555555556,\"#d8576b\"],[0.6666666666666666,\"#ed7953\"],[0.7777777777777778,\"#fb9f3a\"],[0.8888888888888888,\"#fdca26\"],[1.0,\"#f0f921\"]],\"type\":\"histogram2d\"}],\"histogram\":[{\"marker\":{\"pattern\":{\"fillmode\":\"overlay\",\"size\":10,\"solidity\":0.2}},\"type\":\"histogram\"}],\"mesh3d\":[{\"colorbar\":{\"outlinewidth\":0,\"ticks\":\"\"},\"type\":\"mesh3d\"}],\"parcoords\":[{\"line\":{\"colorbar\":{\"outlinewidth\":0,\"ticks\":\"\"}},\"type\":\"parcoords\"}],\"pie\":[{\"automargin\":true,\"type\":\"pie\"}],\"scatter3d\":[{\"line\":{\"colorbar\":{\"outlinewidth\":0,\"ticks\":\"\"}},\"marker\":{\"colorbar\":{\"outlinewidth\":0,\"ticks\":\"\"}},\"type\":\"scatter3d\"}],\"scattercarpet\":[{\"marker\":{\"colorbar\":{\"outlinewidth\":0,\"ticks\":\"\"}},\"type\":\"scattercarpet\"}],\"scattergeo\":[{\"marker\":{\"colorbar\":{\"outlinewidth\":0,\"ticks\":\"\"}},\"type\":\"scattergeo\"}],\"scattergl\":[{\"marker\":{\"colorbar\":{\"outlinewidth\":0,\"ticks\":\"\"}},\"type\":\"scattergl\"}],\"scattermapbox\":[{\"marker\":{\"colorbar\":{\"outlinewidth\":0,\"ticks\":\"\"}},\"type\":\"scattermapbox\"}],\"scatterpolargl\":[{\"marker\":{\"colorbar\":{\"outlinewidth\":0,\"ticks\":\"\"}},\"type\":\"scatterpolargl\"}],\"scatterpolar\":[{\"marker\":{\"colorbar\":{\"outlinewidth\":0,\"ticks\":\"\"}},\"type\":\"scatterpolar\"}],\"scatter\":[{\"fillpattern\":{\"fillmode\":\"overlay\",\"size\":10,\"solidity\":0.2},\"type\":\"scatter\"}],\"scatterternary\":[{\"marker\":{\"colorbar\":{\"outlinewidth\":0,\"ticks\":\"\"}},\"type\":\"scatterternary\"}],\"surface\":[{\"colorbar\":{\"outlinewidth\":0,\"ticks\":\"\"},\"colorscale\":[[0.0,\"#0d0887\"],[0.1111111111111111,\"#46039f\"],[0.2222222222222222,\"#7201a8\"],[0.3333333333333333,\"#9c179e\"],[0.4444444444444444,\"#bd3786\"],[0.5555555555555556,\"#d8576b\"],[0.6666666666666666,\"#ed7953\"],[0.7777777777777778,\"#fb9f3a\"],[0.8888888888888888,\"#fdca26\"],[1.0,\"#f0f921\"]],\"type\":\"surface\"}],\"table\":[{\"cells\":{\"fill\":{\"color\":\"#EBF0F8\"},\"line\":{\"color\":\"white\"}},\"header\":{\"fill\":{\"color\":\"#C8D4E3\"},\"line\":{\"color\":\"white\"}},\"type\":\"table\"}]},\"layout\":{\"annotationdefaults\":{\"arrowcolor\":\"#2a3f5f\",\"arrowhead\":0,\"arrowwidth\":1},\"autotypenumbers\":\"strict\",\"coloraxis\":{\"colorbar\":{\"outlinewidth\":0,\"ticks\":\"\"}},\"colorscale\":{\"diverging\":[[0,\"#8e0152\"],[0.1,\"#c51b7d\"],[0.2,\"#de77ae\"],[0.3,\"#f1b6da\"],[0.4,\"#fde0ef\"],[0.5,\"#f7f7f7\"],[0.6,\"#e6f5d0\"],[0.7,\"#b8e186\"],[0.8,\"#7fbc41\"],[0.9,\"#4d9221\"],[1,\"#276419\"]],\"sequential\":[[0.0,\"#0d0887\"],[0.1111111111111111,\"#46039f\"],[0.2222222222222222,\"#7201a8\"],[0.3333333333333333,\"#9c179e\"],[0.4444444444444444,\"#bd3786\"],[0.5555555555555556,\"#d8576b\"],[0.6666666666666666,\"#ed7953\"],[0.7777777777777778,\"#fb9f3a\"],[0.8888888888888888,\"#fdca26\"],[1.0,\"#f0f921\"]],\"sequentialminus\":[[0.0,\"#0d0887\"],[0.1111111111111111,\"#46039f\"],[0.2222222222222222,\"#7201a8\"],[0.3333333333333333,\"#9c179e\"],[0.4444444444444444,\"#bd3786\"],[0.5555555555555556,\"#d8576b\"],[0.6666666666666666,\"#ed7953\"],[0.7777777777777778,\"#fb9f3a\"],[0.8888888888888888,\"#fdca26\"],[1.0,\"#f0f921\"]]},\"colorway\":[\"#636efa\",\"#EF553B\",\"#00cc96\",\"#ab63fa\",\"#FFA15A\",\"#19d3f3\",\"#FF6692\",\"#B6E880\",\"#FF97FF\",\"#FECB52\"],\"font\":{\"color\":\"#2a3f5f\"},\"geo\":{\"bgcolor\":\"white\",\"lakecolor\":\"white\",\"landcolor\":\"white\",\"showlakes\":true,\"showland\":true,\"subunitcolor\":\"#C8D4E3\"},\"hoverlabel\":{\"align\":\"left\"},\"hovermode\":\"closest\",\"mapbox\":{\"style\":\"light\"},\"paper_bgcolor\":\"white\",\"plot_bgcolor\":\"white\",\"polar\":{\"angularaxis\":{\"gridcolor\":\"#EBF0F8\",\"linecolor\":\"#EBF0F8\",\"ticks\":\"\"},\"bgcolor\":\"white\",\"radialaxis\":{\"gridcolor\":\"#EBF0F8\",\"linecolor\":\"#EBF0F8\",\"ticks\":\"\"}},\"scene\":{\"xaxis\":{\"backgroundcolor\":\"white\",\"gridcolor\":\"#DFE8F3\",\"gridwidth\":2,\"linecolor\":\"#EBF0F8\",\"showbackground\":true,\"ticks\":\"\",\"zerolinecolor\":\"#EBF0F8\"},\"yaxis\":{\"backgroundcolor\":\"white\",\"gridcolor\":\"#DFE8F3\",\"gridwidth\":2,\"linecolor\":\"#EBF0F8\",\"showbackground\":true,\"ticks\":\"\",\"zerolinecolor\":\"#EBF0F8\"},\"zaxis\":{\"backgroundcolor\":\"white\",\"gridcolor\":\"#DFE8F3\",\"gridwidth\":2,\"linecolor\":\"#EBF0F8\",\"showbackground\":true,\"ticks\":\"\",\"zerolinecolor\":\"#EBF0F8\"}},\"shapedefaults\":{\"line\":{\"color\":\"#2a3f5f\"}},\"ternary\":{\"aaxis\":{\"gridcolor\":\"#DFE8F3\",\"linecolor\":\"#A2B1C6\",\"ticks\":\"\"},\"baxis\":{\"gridcolor\":\"#DFE8F3\",\"linecolor\":\"#A2B1C6\",\"ticks\":\"\"},\"bgcolor\":\"white\",\"caxis\":{\"gridcolor\":\"#DFE8F3\",\"linecolor\":\"#A2B1C6\",\"ticks\":\"\"}},\"title\":{\"x\":0.05},\"xaxis\":{\"automargin\":true,\"gridcolor\":\"#EBF0F8\",\"linecolor\":\"#EBF0F8\",\"ticks\":\"\",\"title\":{\"standoff\":15},\"zerolinecolor\":\"#EBF0F8\",\"zerolinewidth\":2},\"yaxis\":{\"automargin\":true,\"gridcolor\":\"#EBF0F8\",\"linecolor\":\"#EBF0F8\",\"ticks\":\"\",\"title\":{\"standoff\":15},\"zerolinecolor\":\"#EBF0F8\",\"zerolinewidth\":2}}},\"xaxis\":{\"anchor\":\"y\",\"domain\":[0.0,1.0],\"title\":{\"text\":\"PCA Component 1\"}},\"yaxis\":{\"anchor\":\"x\",\"domain\":[0.0,1.0],\"title\":{\"text\":\"PCA Component 2\"}},\"coloraxis\":{\"colorbar\":{\"title\":{\"text\":\"Cluster\"}},\"colorscale\":[[0.0,\"#0d0887\"],[0.1111111111111111,\"#46039f\"],[0.2222222222222222,\"#7201a8\"],[0.3333333333333333,\"#9c179e\"],[0.4444444444444444,\"#bd3786\"],[0.5555555555555556,\"#d8576b\"],[0.6666666666666666,\"#ed7953\"],[0.7777777777777778,\"#fb9f3a\"],[0.8888888888888888,\"#fdca26\"],[1.0,\"#f0f921\"]]},\"legend\":{\"tracegroupgap\":0},\"title\":{\"text\":\"PCA of Anomaly Descriptions\"},\"hovermode\":\"closest\"},                        {\"responsive\": true}                    ).then(function(){\n",
       "                            \n",
       "var gd = document.getElementById('ae47e465-0120-40f3-9d25-6a5b9bdb2ddd');\n",
       "var x = new MutationObserver(function (mutations, observer) {{\n",
       "        var display = window.getComputedStyle(gd).display;\n",
       "        if (!display || display === 'none') {{\n",
       "            console.log([gd, 'removed!']);\n",
       "            Plotly.purge(gd);\n",
       "            observer.disconnect();\n",
       "        }}\n",
       "}});\n",
       "\n",
       "// Listen for the removal of the full notebook cells\n",
       "var notebookContainer = gd.closest('#notebook-container');\n",
       "if (notebookContainer) {{\n",
       "    x.observe(notebookContainer, {childList: true});\n",
       "}}\n",
       "\n",
       "// Listen for the clearing of the current output cell\n",
       "var outputEl = gd.closest('.output');\n",
       "if (outputEl) {{\n",
       "    x.observe(outputEl, {childList: true});\n",
       "}}\n",
       "\n",
       "                        })                };                });            </script>        </div>"
      ]
     },
     "metadata": {},
     "output_type": "display_data"
    }
   ],
   "source": [
    "data = {\n",
    "    'PCA1': pca_result[:, 0],\n",
    "    'PCA2': pca_result[:, 1],\n",
    "    'Description': signals,\n",
    "    'Cluster': clusters\n",
    "}\n",
    "\n",
    "# Create the interactive plot using Plotly\n",
    "fig = px.scatter(data, x='PCA1', y='PCA2',\n",
    "                 hover_name='Description',\n",
    "                 color='Cluster',\n",
    "                 title='PCA of Anomaly Descriptions')\n",
    "\n",
    "fig.update_traces(marker=dict(size=10, opacity=0.6))\n",
    "\n",
    "# Customize layout for better readability\n",
    "fig.update_layout(\n",
    "    hovermode='closest',\n",
    "    title='PCA of Anomaly Descriptions',\n",
    "    xaxis_title='PCA Component 1',\n",
    "    yaxis_title='PCA Component 2',\n",
    "    template='plotly_white'\n",
    ")\n",
    "\n",
    "# Show the interactive plot\n",
    "fig.show()"
   ]
  },
  {
   "cell_type": "code",
   "execution_count": 632,
   "id": "d4a0bbc4-92aa-4939-90d8-fcd2eb36b163",
   "metadata": {
    "tags": []
   },
   "outputs": [
    {
     "name": "stdout",
     "output_type": "stream",
     "text": [
      "['Guasto microswitch porta Gangway 1', 'Perdita di comunicazione con HVAC cabina M1', 'Direzione indietro in M1', 'Piastra ERTMS inserita in M1', 'Direzione avanti in M1', 'Frenatura di emergenza attivata da leva di frenatura in M1', 'Incongruenza BRAKE_STATUS_TL e manettino di frenatura M1', 'Mancata ricezione R2 in CCU M1', 'Mancata comunicazione WTB in CCU M1', 'Perdita di comunicazione MVB con TCU M1', 'Mancata Comunicazione con LCU1', 'Livello olio basso nel compressore 1', 'Frenatura di emergenza attivata da leva di trazione in M1', 'Guasto microswitch porta interna 1', 'Chiave di Banco inserita in M1', 'Banco Abilitato M1', 'Mancata ricezione R1 in CCU M1', 'Perdita di comunicazione con HVAC M1', 'Auto esclusione convertitore M1', 'Avvio centralina BCU M1', \"Incorenza sts velocita' 0 porta 1 M1\", \"Incorenza sts velocita' 0 porta 2 M1\", 'Apertura forzata IP-IR per apertura Q1', 'Cod 03. Apertura Interruttore principale richiesto da TCU1 M1']\n",
      "\n",
      "\n",
      "\n",
      "['Rilevata perdita nella condotta freno']\n",
      "\n",
      "\n",
      "\n",
      "['Filtro aria fresca sporco']\n",
      "\n",
      "\n",
      "\n",
      "['Cod. 03 Comando di frenatura da manipolatore attivo', 'Cod. 05 Taglio trazione da SSB attivo', 'Stato STANDBY attivo', 'Stato PARKING attivo', 'Stato RUNNING attivo', 'Comando apertura IR da TCU1 attivo', 'Comando apertura IR da TCU2 attivo', 'Comando apertura IR da TCU3 attivo', 'Comando apertura IR da TCU4 attivo', 'Stato SLEEPING attivo']\n",
      "\n",
      "\n",
      "\n",
      "['Press. Sospens. fuori range (carrello 2) DOWN', 'Press. Sospens. fuori range (carrello 1) DOWN']\n",
      "\n",
      "\n",
      "\n",
      "['Toilette fuori servizio veicolo T7', 'Guasto valvola secondaria WC toilette T7', 'Pantografo DC alto in T7', 'Perdita di comunicazione con HVAC T7', 'IR chiuso in cassa T7', 'Guasto pantografo 3kV in T7', 'Avaria PCU panto 3 kV T7', 'Pantografo AC alto in T7', 'Guasto valvola primaria WC toilette T7', 'Intervento 2F47 (Toilette) in T7', 'Avvio centralina BCU T7', 'Indebita eccitazione 10K19 veicolo T7', \"Incorenza sts velocita' 0 porta 1 T7\", \"Incorenza sts velocita' 0 porta 2 T7\", \"Incorenza sts velocita' 0 porta 3 T7\", \"Incorenza sts velocita' 0 porta 4 T7\", 'CCU: Mancata comunicazione MVB con la PCU T7']\n",
      "\n",
      "\n",
      "\n",
      "['Cod. 17 Filo treno Taglio Trazione non alimentato', 'Cod. 15 Nessun banco abilitato', 'Piastra abilitata in M1 con banco M1 disabilitato', 'Cod 36. Banco non abilitato', 'Cod 04. Banco non abilitato', 'Cod 28. Apertura Interruttore principale richiesto DRIVER da banco Abilitato', 'Piastra abilitata in M8 con banco M8 disabilitato']\n",
      "\n",
      "\n",
      "\n",
      "['Comando chiusura IR/IP da banco', 'Comando abbassamento panto da banco', 'Comando alzamento panto da banco', 'Comando apertura IR/IP da banco', 'Comando riconfigurazione e reset da banco']\n",
      "\n",
      "\n",
      "\n",
      "['Cod. 08 Loop porte aperto', 'Cod 51. 1Q7 non nello stato di aperto', 'Interruttore Q51 aperto']\n",
      "\n",
      "\n",
      "\n",
      "['Cod 47. Line Voltage Type non 25KV', 'Cod 50. Assenza tensione 25KV', 'Cod 41. Line Voltage Type non 3KV']\n",
      "\n",
      "\n",
      "\n",
      "['Pressione CP sotto 8.5 bar in M8 (press. 9S14)', 'Cod. 20 Freno di stazionamento attivo (TT a 2 km/h)', 'Guasto interruttore di isolamento 25 kV (stato)', 'Cod 56. Apertura da TCU1  locale (M1)', 'Cod 59. Apertura da TCU2 remota (M6)', 'Cod 57. Apertura da TCU2  locale (M6)', 'Incongruenza contatti 1Q7 in T2 (11)', 'Pressione serbatoio ausiliario fuori limite (carrello 1)', 'Pressione serbatoio ausiliario fuori limite (carrello 2)', 'Dispositivo 9S06 attivo (assistenza EP isolata)', 'Pressione CP sotto 7.5 bar in M1 (press. 9S13)', 'Cod 57. Apertura da TCU2  locale (M3)', 'Cod 58. Apertura da TCU1 remota (M8)', 'Cod 56. Apertura da TCU1  locale (M8)', 'Cod 58. Apertura da TCU1 remota (M1)', 'Cod 59. Apertura da TCU2 remota (M3)', 'Incongruenza contatti 1Q1 in M6 (00)']\n",
      "\n",
      "\n",
      "\n",
      "['Guasto microswitch porta Gangway', 'Cod. 02 Taglio trazione comandato da RCEC', 'Abbassamento pantogr. comandato da ERTMS', 'Cod 09. Apertura Interruttore principale da ETCS']\n",
      "\n",
      "\n",
      "\n",
      "['Cod 52. Comando apertura DC per guasto Pantografo', 'Cod 22. Guasto centralina EPCU di controllo Pantografo', 'Guasto microswitch porta intermedia', 'Avaria sistema antincendio']\n",
      "\n",
      "\n",
      "\n",
      "['Guasto centralina idraulica TACU M3', 'Perdita di comunicazione MVB con TCU M3', 'Perdita di comunicazione con HVAC M3', 'Mancata Comunicazione con LCU3', \"Avaria unita' pneum. gradino porta 4 M3\", 'Auto esclusione convertitore M3', 'Avvio centralina BCU M3', 'Indebita eccitazione 10K19 veicolo M3', \"Incorenza sts velocita' 0 porta 1 M3\", \"Incorenza sts velocita' 0 porta 2 M3\", \"Incorenza sts velocita' 0 porta 3 M3\", \"Incorenza sts velocita' 0 porta 4 M3\"]\n",
      "\n",
      "\n",
      "\n",
      "['Cod 39. Master Controller non in IDLE']\n",
      "\n",
      "\n",
      "\n",
      "['Cod. 12 Rilascio Porte Sinistre Attivo', 'Cod. 11 Rilascio Porte Destre Attivo', 'Cod 16. Filo treno di abbassamento Panto Attivo']\n",
      "\n",
      "\n",
      "\n",
      "['Nessun IR o IP chiuso']\n",
      "\n",
      "\n",
      "\n",
      "['Cod 15. Assenza di comunicazione tra LCU5 e CCU', 'Mancata ricezione ds 200 da CCU']\n",
      "\n",
      "\n",
      "\n",
      "[\"Cod. 10 Nessuna velocita' impostata\", 'Cod. 14 Nessuna direzione impostata', 'Cod. 19 Maniglia Allarme Passeggeri Attivata', 'Porta interna 1 isolata', 'Porta interna 2 isolata', 'Porta Gangway 2 isolata']\n",
      "\n",
      "\n",
      "\n",
      "[\"Linea treno Velocita' zero  attiva in M1-T4\", \"Linea treno Velocita' zero  attiva in M8-T5\", 'Perdita di comunicazione con HVAC T5', 'Perdita di comunicazione con HVAC T4', 'Mancata Comunicazione con LCU5', 'Mancata Comunicazione con LCU4', 'Alta tensione non presente in M1-T4', 'Alta tensione non presente in M8-T5', \"Avaria unita' pneum. gradino porta 1 T5\", 'Guasto al sensore del damper Y70', 'Guasto al sensore del damper Y75', 'Avvio centralina BCU T4', 'Avvio centralina BCU T5', \"Incorenza sts velocita' 0 porta 1 T4\", \"Incorenza sts velocita' 0 porta 2 T4\", 'Indebita eccitazione 10K19 veicolo T5', \"Incorenza sts velocita' 0 porta 1 T5\", \"Incorenza sts velocita' 0 porta 2 T5\", 'Indebita eccitazione 10K19 veicolo T4']\n",
      "\n",
      "\n",
      "\n",
      "['Avvio diagnostica SMC']\n",
      "\n",
      "\n",
      "\n",
      "['Cod 68. Mancata comunic. WTB con semitreno remoto', 'Cod 45. Mancata comunic. WTB con semitreno remoto', 'Cod 07. Comando abbassamento panto richiesto da remoto']\n",
      "\n",
      "\n",
      "\n",
      "['Cod 13. Apertura IR/IP da TRAIN LINE']\n",
      "\n",
      "\n",
      "\n",
      "['Ventilazione di emergenza attiva']\n",
      "\n",
      "\n",
      "\n",
      "['Cod 60. Apertura per linea treno HW Opening TL\" a 1 senza alcuna TCU che alimenta la linea\"', 'Mancata apertura damper Y5_S', 'Mancata chiusura damper Y5_S']\n",
      "\n",
      "\n",
      "\n",
      "['Sforzo frenatura dinamica insufficiente in frenatura di servizio', 'Errore regolazione pressione di riferimento', 'Assistenza EP fuori servizio']\n",
      "\n",
      "\n",
      "\n",
      "['Cod 40. Contattore 1Q1 non nello stato DC', 'Apertura forz. contatt. Convert. Princip. DC']\n",
      "\n",
      "\n",
      "\n",
      "['Allarme blocco restato', \"Frenatura pneumatica attiva in modalita' diversa da RUNNING\"]\n",
      "\n",
      "\n",
      "\n",
      "['Selezionata tensione 3 kV', 'Selezionata tensione 25 kV']\n",
      "\n",
      "\n",
      "\n",
      "['Guasto microswitch porta Gangway 2', 'IR chiuso in cassa T2', 'Guasto microswitch porta interna 2', 'Pantografo DC alto in T2', 'Pantografo AC alto in T2', 'Perdita di comunicazione con HVAC T2', 'Mancata Comunicazione con LCU2', 'Livello olio basso nel compressore 2', 'Intervento bordo sensibile toilette T2', 'Guasto pressostato porta toilette T2', 'Guasto rilascio porta sorvegliata 1 T2', 'Mancata chiusura damper S82', 'Avvio centralina BCU T2', 'Indebita eccitazione 10K19 veicolo T2', \"Incorenza sts velocita' 0 porta 1 T2\", \"Incorenza sts velocita' 0 porta 2 T2\", \"Incorenza sts velocita' 0 porta 3 T2\", \"Incorenza sts velocita' 0 porta 4 T2\", 'Toilette fuori servizio veicolo T2', 'Guasto pantografo 3kV in T2', 'Avaria PCU panto 3 kV T2', 'Mancata segnalazione filata avaria PCU T2']\n",
      "\n",
      "\n",
      "\n",
      "['Cod. 13 Leva MC 6S01 non in trazione', 'Cod. 22 Manettino fuori coasting dopo taglio trazione', 'Cod. 01 Max fren. di servizio richiesta da segnalamento', 'Cod. 18 Linea Emergenza Attiva', 'Cod 12. Abbassamento Panto richiesto dal segnalamento']\n",
      "\n",
      "\n",
      "\n",
      "['Ingresso in POC']\n",
      "\n",
      "\n",
      "\n",
      "['Nessuna tensione di linea', 'Rilevata perdita condotta freno e direzione marcia non in posizione neutra']\n",
      "\n",
      "\n",
      "\n",
      "['Rubinetto RIM 9S30 chiuso (valvola freni macchinista isolata man.)', 'Guasto microswitch porta bar']\n",
      "\n",
      "\n",
      "\n",
      "['Cod 01. Mancanza tensione di linea su treno locale', 'Cod 42. Pantografo DC non alto', 'Nessun pantografo alto', 'Cod 48. Pantografo AC non alto']\n",
      "\n",
      "\n",
      "\n",
      "['Cod. 04 Condotta Generale scarica', 'Cod 55. Sezionatore 1Q7  non aperto in AC']\n",
      "\n",
      "\n",
      "\n",
      "['Direzione avanti in M8', 'Direzione indietro in M8', 'Frenatura di emergenza attivata da leva di frenatura in M8', 'Piastra ERTMS inserita in M8', 'Incongruenza BRAKE_STATUS_TL e manettino di frenatura M8', 'Perdita di comunicazione con HVAC M6', 'Mancata ricezione R2 in CCU M8', 'Mancata comunicazione WTB in CCU M8', 'Perdita di comunicazione MVB con TCU M6', 'Perdita di comunicazione MVB con TCU M8', \"Avaria unita' pneum. gradino porta 1 M6\", 'Guasto sensore di pressione B46', 'Mancata ricezione R1 in CCU M8', 'Chiave di Banco inserita in M8', 'Banco Abilitato M8', 'Perdita di comunicazione con HVAC M8', 'Guasto centralina idraulica TACU M8', 'Auto esclusione convertitore M6', 'Auto esclusione convertitore M8', 'Avvio centralina BCU M6', 'Avvio centralina BCU M8', 'Indebita eccitazione 10K19 veicolo M6', \"Incorenza sts velocita' 0 porta 1 M6\", \"Incorenza sts velocita' 0 porta 2 M6\", \"Incorenza sts velocita' 0 porta 3 M6\", \"Incorenza sts velocita' 0 porta 4 M6\", \"Incorenza sts velocita' 0 porta 1 M8\", \"Incorenza sts velocita' 0 porta 2 M8\", 'Indebita eccitazione 10K19 veicolo M8', 'Incoerenza loop e maniglie emg in M8', 'Frenatura di emergenza attivata da leva di trazione in M8', 'Cod 03. Apertura Interruttore principale richiesto da TCU1 M8']\n",
      "\n",
      "\n",
      "\n",
      "['H2O: FL1 - flusso circ. trattamento basso', 'Cod 03. Treno in spegnimento']\n",
      "\n",
      "\n",
      "\n",
      "['Cod 08. Comando abbassamento da selettore Panto']\n",
      "\n",
      "\n",
      "\n",
      "['Cod. 21 AT non presente']\n",
      "\n",
      "\n",
      "\n"
     ]
    }
   ],
   "source": [
    "clustered_signal_tuples = list(zip(signals, clusters))\n",
    "\n",
    "for cluster in range(40):\n",
    "    print([cs_tuple[0] for cs_tuple in clustered_signal_tuples if cs_tuple[1]==cluster])\n",
    "    print('\\n\\n')"
   ]
  },
  {
   "cell_type": "markdown",
   "id": "d7556399-f7ab-4f8f-9f1f-1d947e2f20ba",
   "metadata": {},
   "source": [
    "# Dive deep part 2:"
   ]
  },
  {
   "cell_type": "code",
   "execution_count": 644,
   "id": "ed0e129c-9dbd-4e1b-b7c0-f5aaf89a6cde",
   "metadata": {
    "tags": []
   },
   "outputs": [
    {
     "name": "stdout",
     "output_type": "stream",
     "text": [
      "Minimum Timestamp: 2022-03-07 00:18:42.369\n",
      "Maximum Timestamp: 2022-03-14 14:04:24.901\n"
     ]
    }
   ],
   "source": [
    "min_timestamp = main_df['Timestamp'].min()\n",
    "max_timestamp = main_df['Timestamp'].max()\n",
    "\n",
    "print(\"Minimum Timestamp:\", min_timestamp)\n",
    "print(\"Maximum Timestamp:\", max_timestamp)"
   ]
  },
  {
   "cell_type": "code",
   "execution_count": 645,
   "id": "9f4d910b-b046-4d72-8405-4f8dc269425d",
   "metadata": {
    "tags": []
   },
   "outputs": [
    {
     "name": "stdout",
     "output_type": "stream",
     "text": [
      "Intertimes Statistics:\n",
      "count                        57651\n",
      "mean     0 days 00:00:11.350063867\n",
      "std      0 days 00:04:25.170344945\n",
      "min                0 days 00:00:00\n",
      "25%                0 days 00:00:00\n",
      "50%                0 days 00:00:00\n",
      "75%                0 days 00:00:00\n",
      "max         0 days 08:16:11.655000\n",
      "Name: intertimes, dtype: object\n"
     ]
    }
   ],
   "source": [
    "main_df['Timestamp'] = pd.to_datetime(main_df['Timestamp'])\n",
    "\n",
    "# Ensure the DataFrame is sorted by the timestamp column\n",
    "sorted_df = main_df.sort_values('Timestamp')\n",
    "\n",
    "# Calculate the time differences between consecutive timestamps\n",
    "sorted_df['intertimes'] = sorted_df['Timestamp'].diff()\n",
    "\n",
    "sorted_df['intertimes'] = pd.to_timedelta(sorted_df['intertimes'])\n",
    "\n",
    "# Drop the first row since it will have NaT (Not a Time) due to the diff operation\n",
    "sorted_df = sorted_df.dropna(subset=['intertimes'])\n",
    "\n",
    "print(\"Intertimes Statistics:\")\n",
    "print(sorted_df['intertimes'].describe())"
   ]
  },
  {
   "cell_type": "code",
   "execution_count": 646,
   "id": "cb2ed52c-9683-4c57-b6e4-4695ed395a8e",
   "metadata": {
    "tags": []
   },
   "outputs": [],
   "source": [
    "sorted_df['intertimes'] = sorted_df['intertimes'].apply(lambda x: \\\n",
    "                                          x.total_seconds() * 10**6 \\\n",
    "                                          + x.microseconds)"
   ]
  },
  {
   "cell_type": "code",
   "execution_count": 647,
   "id": "337f16c4-0855-4fad-9bf6-2e6319dc859b",
   "metadata": {
    "tags": []
   },
   "outputs": [
    {
     "data": {
      "text/plain": [
       "count    5.765100e+04\n",
       "mean     1.143300e+07\n",
       "std      2.651875e+08\n",
       "min      0.000000e+00\n",
       "25%      0.000000e+00\n",
       "50%      0.000000e+00\n",
       "75%      0.000000e+00\n",
       "max      2.977231e+10\n",
       "Name: intertimes, dtype: float64"
      ]
     },
     "execution_count": 647,
     "metadata": {},
     "output_type": "execute_result"
    }
   ],
   "source": [
    "sorted_df['intertimes'].describe()"
   ]
  },
  {
   "cell_type": "code",
   "execution_count": 648,
   "id": "bbc6544b-33f2-47ae-9b93-9cb3875f576b",
   "metadata": {
    "tags": []
   },
   "outputs": [
    {
     "data": {
      "image/png": "[encoded data removed]",
      "text/plain": [
       "<Figure size 640x480 with 1 Axes>"
      ]
     },
     "metadata": {},
     "output_type": "display_data"
    }
   ],
   "source": [
    "# Plot the histogram\n",
    "plt.hist(sorted_df['intertimes'], bins=1000, edgecolor='black')\n",
    "plt.xlabel('Intertimes (microsecs)')\n",
    "plt.ylabel('Frequency')\n",
    "# Set y-axis to log scale\n",
    "plt.yscale('log')\n",
    "plt.title('Distribution of Intertimes (full data)')\n",
    "plt.show()"
   ]
  },
  {
   "cell_type": "code",
   "execution_count": 649,
   "id": "62df5fb8-604f-4557-8f6d-674611b1fbad",
   "metadata": {
    "tags": []
   },
   "outputs": [
    {
     "data": {
      "image/png": "[encoded data removed]",
      "text/plain": [
       "<Figure size 640x480 with 1 Axes>"
      ]
     },
     "metadata": {},
     "output_type": "display_data"
    }
   ],
   "source": [
    "# Calculate the Z-scores of the series\n",
    "z_scores = stats.zscore(sorted_df['intertimes'])\n",
    "\n",
    "# Define a threshold for Z-scores to identify outliers (commonly 3 or -3)\n",
    "z_score_threshold = 3\n",
    "\n",
    "# Filter the series to remove outliers\n",
    "filtered_series_zscore = sorted_df['intertimes'][(z_scores < z_score_threshold) & (z_scores > -z_score_threshold)]\n",
    "\n",
    "\n",
    "# Plot the histogram\n",
    "plt.hist(filtered_series_zscore, bins=1000, edgecolor='black')\n",
    "plt.xlabel('Intertimes (microsecs)')\n",
    "plt.ylabel('Frequency')\n",
    "# Set y-axis to log scale\n",
    "plt.yscale('log')\n",
    "\n",
    "plt.title('Distribution of Intertimes (no outliers)')\n",
    "plt.show()"
   ]
  },
  {
   "cell_type": "code",
   "execution_count": 650,
   "id": "7ce08e59-3d9e-41d6-9f2f-6db084c37578",
   "metadata": {
    "tags": []
   },
   "outputs": [
    {
     "data": {
      "image/png": "[encoded data removed]",
      "text/plain": [
       "<Figure size 640x480 with 1 Axes>"
      ]
     },
     "metadata": {},
     "output_type": "display_data"
    }
   ],
   "source": [
    "# Calculate the Z-scores of the series\n",
    "z_scores = stats.zscore(sorted_df['intertimes'])\n",
    "\n",
    "# Define a threshold for Z-scores to identify outliers (commonly 3 or -3)\n",
    "z_score_threshold = 1\n",
    "\n",
    "# Filter the series to remove outliers\n",
    "filtered_series_zscore = sorted_df['intertimes'][(z_scores < z_score_threshold) & (z_scores > -z_score_threshold)]\n",
    "\n",
    "\n",
    "# Plot the histogram\n",
    "plt.hist(filtered_series_zscore, bins=1000, edgecolor='black')\n",
    "plt.xlabel('Intertimes (microsecs)')\n",
    "plt.ylabel('Frequency')\n",
    "# Set y-axis to log scale\n",
    "plt.yscale('log')\n",
    "\n",
    "plt.title('Distribution of Intertimes (less outliers)')\n",
    "plt.show()"
   ]
  },
  {
   "cell_type": "markdown",
   "id": "f1a6fe9f-fee1-46f7-a1cf-df67d0f3ade5",
   "metadata": {
    "tags": []
   },
   "source": [
    "# Grouping"
   ]
  },
  {
   "cell_type": "code",
   "execution_count": 651,
   "id": "49b686ba-9e44-4b48-bc9b-3fae876df04e",
   "metadata": {
    "tags": []
   },
   "outputs": [],
   "source": [
    "# Identify columns with a single unique value\n",
    "unique_value_columns = main_df.nunique() == 1\n",
    "\n",
    "# Drop these columns\n",
    "filtered_df = main_df.loc[:, ~unique_value_columns]"
   ]
  },
  {
   "cell_type": "code",
   "execution_count": 652,
   "id": "56957577-6b9a-4458-aeea-c089e65a07dd",
   "metadata": {
    "tags": []
   },
   "outputs": [
    {
     "data": {
      "text/plain": [
       "['Flotta', 'Veicolo', 'Test']"
      ]
     },
     "execution_count": 652,
     "metadata": {},
     "output_type": "execute_result"
    }
   ],
   "source": [
    "unique_value_columns[unique_value_columns].index.tolist()"
   ]
  },
  {
   "cell_type": "code",
   "execution_count": 653,
   "id": "aa49e25d-8f35-42a9-94bf-3ab4fa7270e9",
   "metadata": {
    "tags": []
   },
   "outputs": [
    {
     "data": {
      "text/plain": [
       "166"
      ]
     },
     "execution_count": 653,
     "metadata": {},
     "output_type": "execute_result"
    }
   ],
   "source": [
    "len(filtered_df.columns)"
   ]
  },
  {
   "cell_type": "code",
   "execution_count": 654,
   "id": "088919b7-7d21-45c6-850b-6009c8d85d26",
   "metadata": {
    "tags": []
   },
   "outputs": [],
   "source": [
    "agg_df = main_df.groupby(['Codice',\n",
    " 'Nome',\n",
    " 'Componente',\n",
    " 'Descrizione']).agg({\n",
    "    'Flotta': 'count',\n",
    "    'Durata': 'mean'})\n",
    "\n",
    "agg_df.columns = ['N_Events',\n",
    " 'Mean_Duration']\n",
    "\n",
    "agg_df.reset_index(inplace=True )"
   ]
  },
  {
   "cell_type": "code",
   "execution_count": 655,
   "id": "d4dba665-02e9-415e-bb41-2bf3fba68438",
   "metadata": {
    "tags": []
   },
   "outputs": [],
   "source": [
    "agg_sorted_df = agg_df.sort_values('N_Events')"
   ]
  },
  {
   "cell_type": "code",
   "execution_count": 656,
   "id": "5064cdb1-0630-478a-bb40-eb7a1d9fda45",
   "metadata": {
    "tags": []
   },
   "outputs": [
    {
     "data": {
      "text/html": [
       "<div>\n",
       "<style scoped>\n",
       "    .dataframe tbody tr th:only-of-type {\n",
       "        vertical-align: middle;\n",
       "    }\n",
       "\n",
       "    .dataframe tbody tr th {\n",
       "        vertical-align: top;\n",
       "    }\n",
       "\n",
       "    .dataframe thead th {\n",
       "        text-align: right;\n",
       "    }\n",
       "</style>\n",
       "<table border=\"1\" class=\"dataframe\">\n",
       "  <thead>\n",
       "    <tr style=\"text-align: right;\">\n",
       "      <th></th>\n",
       "      <th>Codice</th>\n",
       "      <th>Nome</th>\n",
       "      <th>Componente</th>\n",
       "      <th>Descrizione</th>\n",
       "      <th>N_Events</th>\n",
       "      <th>Mean_Duration</th>\n",
       "    </tr>\n",
       "  </thead>\n",
       "  <tbody>\n",
       "    <tr>\n",
       "      <th>437</th>\n",
       "      <td>151022</td>\n",
       "      <td>_HvOnBoardUnit_</td>\n",
       "      <td>T2_1Q4_IP</td>\n",
       "      <td>Alta tensione non presente in M1-T4</td>\n",
       "      <td>519</td>\n",
       "      <td>44.880597</td>\n",
       "    </tr>\n",
       "    <tr>\n",
       "      <th>59</th>\n",
       "      <td>021476</td>\n",
       "      <td>OP_DCMAINCNT_PREC_DC</td>\n",
       "      <td>CONV_TRAZ_M1</td>\n",
       "      <td>Apertura forz. contatt. Convert. Princip. DC</td>\n",
       "      <td>537</td>\n",
       "      <td>12.265537</td>\n",
       "    </tr>\n",
       "    <tr>\n",
       "      <th>536</th>\n",
       "      <td>ILCK_IR_T7_01</td>\n",
       "      <td>ILCK_IR_T7_01</td>\n",
       "      <td>T2_1Q2_IR</td>\n",
       "      <td>Cod 01. Mancanza tensione di linea su treno lo...</td>\n",
       "      <td>537</td>\n",
       "      <td>5.850129</td>\n",
       "    </tr>\n",
       "    <tr>\n",
       "      <th>568</th>\n",
       "      <td>ILCK_PROP_22M1</td>\n",
       "      <td>ILCK_PROP_22M1</td>\n",
       "      <td>MDS</td>\n",
       "      <td>Cod. 22 Manettino fuori coasting dopo taglio t...</td>\n",
       "      <td>551</td>\n",
       "      <td>8.270417</td>\n",
       "    </tr>\n",
       "    <tr>\n",
       "      <th>530</th>\n",
       "      <td>ILCK_IR_T2_01</td>\n",
       "      <td>ILCK_IR_T2_01</td>\n",
       "      <td>T2_1Q2_IR</td>\n",
       "      <td>Cod 01. Mancanza tensione di linea su treno lo...</td>\n",
       "      <td>566</td>\n",
       "      <td>5.868557</td>\n",
       "    </tr>\n",
       "    <tr>\n",
       "      <th>537</th>\n",
       "      <td>ILCK_IR_T7_40</td>\n",
       "      <td>ILCK_IR_T7_40</td>\n",
       "      <td>T2_1Q2_IR</td>\n",
       "      <td>Cod 40. Contattore 1Q1 non nello stato DC</td>\n",
       "      <td>568</td>\n",
       "      <td>5.281481</td>\n",
       "    </tr>\n",
       "    <tr>\n",
       "      <th>553</th>\n",
       "      <td>ILCK_PROP_12M8</td>\n",
       "      <td>ILCK_PROP_12M8</td>\n",
       "      <td>MDS</td>\n",
       "      <td>Cod. 12 Rilascio Porte Sinistre Attivo</td>\n",
       "      <td>606</td>\n",
       "      <td>163.729685</td>\n",
       "    </tr>\n",
       "    <tr>\n",
       "      <th>556</th>\n",
       "      <td>ILCK_PROP_14</td>\n",
       "      <td>ILCK_PROP_14</td>\n",
       "      <td>MDS</td>\n",
       "      <td>Cod. 14 Nessuna direzione impostata</td>\n",
       "      <td>688</td>\n",
       "      <td>299.049635</td>\n",
       "    </tr>\n",
       "    <tr>\n",
       "      <th>531</th>\n",
       "      <td>ILCK_IR_T2_40</td>\n",
       "      <td>ILCK_IR_T2_40</td>\n",
       "      <td>T2_1Q2_IR</td>\n",
       "      <td>Cod 40. Contattore 1Q1 non nello stato DC</td>\n",
       "      <td>704</td>\n",
       "      <td>5.309342</td>\n",
       "    </tr>\n",
       "    <tr>\n",
       "      <th>545</th>\n",
       "      <td>ILCK_PROP_05</td>\n",
       "      <td>ILCK_PROP_05</td>\n",
       "      <td>VEHICLE</td>\n",
       "      <td>Cod. 05 Taglio trazione da SSB attivo</td>\n",
       "      <td>716</td>\n",
       "      <td>1460.124444</td>\n",
       "    </tr>\n",
       "    <tr>\n",
       "      <th>552</th>\n",
       "      <td>ILCK_PROP_12M1</td>\n",
       "      <td>ILCK_PROP_12M1</td>\n",
       "      <td>MDS</td>\n",
       "      <td>Cod. 12 Rilascio Porte Sinistre Attivo</td>\n",
       "      <td>745</td>\n",
       "      <td>123.906040</td>\n",
       "    </tr>\n",
       "    <tr>\n",
       "      <th>448</th>\n",
       "      <td>158021</td>\n",
       "      <td>_LowSpdTL_</td>\n",
       "      <td>M8_9K42</td>\n",
       "      <td>Linea treno Velocita' zero  attiva in M8-T5</td>\n",
       "      <td>766</td>\n",
       "      <td>1112.834286</td>\n",
       "    </tr>\n",
       "    <tr>\n",
       "      <th>436</th>\n",
       "      <td>151021</td>\n",
       "      <td>_LowSpdTL_</td>\n",
       "      <td>M1_9K42</td>\n",
       "      <td>Linea treno Velocita' zero  attiva in M1-T4</td>\n",
       "      <td>779</td>\n",
       "      <td>1064.873773</td>\n",
       "    </tr>\n",
       "    <tr>\n",
       "      <th>5</th>\n",
       "      <td>011050</td>\n",
       "      <td>_HVACcabNotOK_</td>\n",
       "      <td>HVAC_CAB_M1</td>\n",
       "      <td>Perdita di comunicazione con HVAC cabina M1</td>\n",
       "      <td>1129</td>\n",
       "      <td>16.017953</td>\n",
       "    </tr>\n",
       "    <tr>\n",
       "      <th>41</th>\n",
       "      <td>018050</td>\n",
       "      <td>_HVACcabNotOK_</td>\n",
       "      <td>HVAC_CAB_M8</td>\n",
       "      <td>Perdita di comunicazione con HVAC cabina M1</td>\n",
       "      <td>1169</td>\n",
       "      <td>12.196028</td>\n",
       "    </tr>\n",
       "    <tr>\n",
       "      <th>555</th>\n",
       "      <td>ILCK_PROP_13M8</td>\n",
       "      <td>ILCK_PROP_13_M8</td>\n",
       "      <td>MDS</td>\n",
       "      <td>Cod. 13 Leva MC 6S01 non in trazione</td>\n",
       "      <td>1533</td>\n",
       "      <td>105.544684</td>\n",
       "    </tr>\n",
       "    <tr>\n",
       "      <th>554</th>\n",
       "      <td>ILCK_PROP_13M1</td>\n",
       "      <td>ILCK_PROP_13_M1</td>\n",
       "      <td>MDS</td>\n",
       "      <td>Cod. 13 Leva MC 6S01 non in trazione</td>\n",
       "      <td>1570</td>\n",
       "      <td>152.612739</td>\n",
       "    </tr>\n",
       "    <tr>\n",
       "      <th>547</th>\n",
       "      <td>ILCK_PROP_08</td>\n",
       "      <td>ILCK_PROP_08</td>\n",
       "      <td>VEHICLE</td>\n",
       "      <td>Cod. 08 Loop porte aperto</td>\n",
       "      <td>2002</td>\n",
       "      <td>707.313494</td>\n",
       "    </tr>\n",
       "    <tr>\n",
       "      <th>544</th>\n",
       "      <td>ILCK_PROP_04</td>\n",
       "      <td>ILCK_PROP_04</td>\n",
       "      <td>VEHICLE</td>\n",
       "      <td>Cod. 04 Condotta Generale scarica</td>\n",
       "      <td>2435</td>\n",
       "      <td>47.010280</td>\n",
       "    </tr>\n",
       "    <tr>\n",
       "      <th>543</th>\n",
       "      <td>ILCK_PROP_03</td>\n",
       "      <td>ILCK_PROP_03</td>\n",
       "      <td>VEHICLE</td>\n",
       "      <td>Cod. 03 Comando di frenatura da manipolatore a...</td>\n",
       "      <td>3654</td>\n",
       "      <td>14.991772</td>\n",
       "    </tr>\n",
       "  </tbody>\n",
       "</table>\n",
       "</div>"
      ],
      "text/plain": [
       "             Codice                  Nome    Componente  \\\n",
       "437          151022       _HvOnBoardUnit_     T2_1Q4_IP   \n",
       "59           021476  OP_DCMAINCNT_PREC_DC  CONV_TRAZ_M1   \n",
       "536   ILCK_IR_T7_01         ILCK_IR_T7_01     T2_1Q2_IR   \n",
       "568  ILCK_PROP_22M1        ILCK_PROP_22M1           MDS   \n",
       "530   ILCK_IR_T2_01         ILCK_IR_T2_01     T2_1Q2_IR   \n",
       "537   ILCK_IR_T7_40         ILCK_IR_T7_40     T2_1Q2_IR   \n",
       "553  ILCK_PROP_12M8        ILCK_PROP_12M8           MDS   \n",
       "556    ILCK_PROP_14          ILCK_PROP_14           MDS   \n",
       "531   ILCK_IR_T2_40         ILCK_IR_T2_40     T2_1Q2_IR   \n",
       "545    ILCK_PROP_05          ILCK_PROP_05       VEHICLE   \n",
       "552  ILCK_PROP_12M1        ILCK_PROP_12M1           MDS   \n",
       "448          158021            _LowSpdTL_       M8_9K42   \n",
       "436          151021            _LowSpdTL_       M1_9K42   \n",
       "5            011050        _HVACcabNotOK_   HVAC_CAB_M1   \n",
       "41           018050        _HVACcabNotOK_   HVAC_CAB_M8   \n",
       "555  ILCK_PROP_13M8       ILCK_PROP_13_M8           MDS   \n",
       "554  ILCK_PROP_13M1       ILCK_PROP_13_M1           MDS   \n",
       "547    ILCK_PROP_08          ILCK_PROP_08       VEHICLE   \n",
       "544    ILCK_PROP_04          ILCK_PROP_04       VEHICLE   \n",
       "543    ILCK_PROP_03          ILCK_PROP_03       VEHICLE   \n",
       "\n",
       "                                           Descrizione  N_Events  \\\n",
       "437                Alta tensione non presente in M1-T4       519   \n",
       "59        Apertura forz. contatt. Convert. Princip. DC       537   \n",
       "536  Cod 01. Mancanza tensione di linea su treno lo...       537   \n",
       "568  Cod. 22 Manettino fuori coasting dopo taglio t...       551   \n",
       "530  Cod 01. Mancanza tensione di linea su treno lo...       566   \n",
       "537          Cod 40. Contattore 1Q1 non nello stato DC       568   \n",
       "553             Cod. 12 Rilascio Porte Sinistre Attivo       606   \n",
       "556                Cod. 14 Nessuna direzione impostata       688   \n",
       "531          Cod 40. Contattore 1Q1 non nello stato DC       704   \n",
       "545              Cod. 05 Taglio trazione da SSB attivo       716   \n",
       "552             Cod. 12 Rilascio Porte Sinistre Attivo       745   \n",
       "448        Linea treno Velocita' zero  attiva in M8-T5       766   \n",
       "436        Linea treno Velocita' zero  attiva in M1-T4       779   \n",
       "5          Perdita di comunicazione con HVAC cabina M1      1129   \n",
       "41         Perdita di comunicazione con HVAC cabina M1      1169   \n",
       "555               Cod. 13 Leva MC 6S01 non in trazione      1533   \n",
       "554               Cod. 13 Leva MC 6S01 non in trazione      1570   \n",
       "547                          Cod. 08 Loop porte aperto      2002   \n",
       "544                  Cod. 04 Condotta Generale scarica      2435   \n",
       "543  Cod. 03 Comando di frenatura da manipolatore a...      3654   \n",
       "\n",
       "     Mean_Duration  \n",
       "437      44.880597  \n",
       "59       12.265537  \n",
       "536       5.850129  \n",
       "568       8.270417  \n",
       "530       5.868557  \n",
       "537       5.281481  \n",
       "553     163.729685  \n",
       "556     299.049635  \n",
       "531       5.309342  \n",
       "545    1460.124444  \n",
       "552     123.906040  \n",
       "448    1112.834286  \n",
       "436    1064.873773  \n",
       "5        16.017953  \n",
       "41       12.196028  \n",
       "555     105.544684  \n",
       "554     152.612739  \n",
       "547     707.313494  \n",
       "544      47.010280  \n",
       "543      14.991772  "
      ]
     },
     "execution_count": 656,
     "metadata": {},
     "output_type": "execute_result"
    }
   ],
   "source": [
    "agg_sorted_df[-20:]"
   ]
  },
  {
   "cell_type": "markdown",
   "id": "e7bfc9e8-4557-4e8c-a5e6-e8535d5c8551",
   "metadata": {},
   "source": [
    "# Exctracting some knowledge:"
   ]
  },
  {
   "cell_type": "code",
   "execution_count": 657,
   "id": "09fb1228-0ac6-4604-9354-8ded7c147492",
   "metadata": {
    "tags": []
   },
   "outputs": [],
   "source": [
    "main_df = pd.read_csv('dataset.csv')\n",
    "main_df = main_df.dropna(subset=['Posizione'])\n",
    "main_df = main_df.dropna(subset=['Timestamp'])\n",
    "\n",
    "main_df['Timestamp'] = pd.to_datetime(main_df['Timestamp'])\n",
    "main_df = main_df.sort_values('Timestamp')"
   ]
  },
  {
   "cell_type": "markdown",
   "id": "48231eb8-bfa3-4cb4-8811-a28e3c41392b",
   "metadata": {},
   "source": [
    "# Let's compute centroids of discrete locations:"
   ]
  },
  {
   "cell_type": "code",
   "execution_count": 658,
   "id": "ae3fee39-499e-4b7c-b8cb-c9527d0539e7",
   "metadata": {
    "tags": []
   },
   "outputs": [],
   "source": [
    "geo_information = main_df.groupby('Posizione').agg({\n",
    "'Latitudine':'mean',\n",
    "'Longitudine': 'mean'}).transpose().to_dict()"
   ]
  },
  {
   "cell_type": "markdown",
   "id": "21c90eca-aa84-4d1d-8552-e7996a02dfea",
   "metadata": {},
   "source": [
    "## Let's compute approximate train speed:"
   ]
  },
  {
   "cell_type": "code",
   "execution_count": 659,
   "id": "0f67e8d0-4355-43d5-a77b-a42a9a218733",
   "metadata": {
    "tags": []
   },
   "outputs": [],
   "source": [
    "def calculate_distance(lat1, lon1, lat2, lon2):\n",
    "    # Convert coordinates to tuples\n",
    "    coords1 = (lat1, lon1)\n",
    "    coords2 = (lat2, lon2)\n",
    "\n",
    "    # Calculate distance using geodesic distance\n",
    "    distance = geodesic(coords1, coords2).km  # Meters\n",
    "\n",
    "    return distance"
   ]
  },
  {
   "cell_type": "code",
   "execution_count": 660,
   "id": "d99f5403-3041-4cc2-988d-272343bf1d4d",
   "metadata": {
    "tags": []
   },
   "outputs": [],
   "source": [
    "main_df['time_diff'] = main_df['Timestamp'].diff()\n",
    "\n",
    "# seconds\n",
    "main_df['time_diff'] = main_df['time_diff'].apply(lambda x: \\\n",
    "                                          x.total_seconds()\\\n",
    "                                          + x.microseconds / 10**6)\n",
    "\n",
    "# hours\n",
    "main_df['time_diff'] = main_df['time_diff'] / 3600"
   ]
  },
  {
   "cell_type": "code",
   "execution_count": 661,
   "id": "3d8bfc9b-5cfa-43dc-8215-0d4ac7c4a183",
   "metadata": {},
   "outputs": [
    {
     "data": {
      "application/vnd.jupyter.widget-view+json": {
       "model_id": "a344bbb7b6a04ae488246f98e8184383",
       "version_major": 2,
       "version_minor": 0
      },
      "text/plain": [
       "  0%|          | 0/55795 [00:00<?, ?it/s]"
      ]
     },
     "metadata": {},
     "output_type": "display_data"
    }
   ],
   "source": [
    "approx_speeds = [np.nan] * len(main_df)\n",
    "\n",
    "for i in trange(len(main_df) - 1):\n",
    "    time_diff = main_df.iloc[i+1]['time_diff']\n",
    "    \n",
    "    if time_diff > 0.01:\n",
    "        init_lat = main_df.iloc[i]['Latitudine']\n",
    "        init_long = main_df.iloc[i]['Longitudine']\n",
    "\n",
    "        dest_lat = main_df.iloc[i+1]['Latitudine']\n",
    "        dest_long = main_df.iloc[i+1]['Longitudine']\n",
    "        dist_km = calculate_distance(init_lat, init_long, dest_lat, dest_long)\n",
    "    \n",
    "        if dist_km > 0:\n",
    "            approx_speeds[i] = dist_km / time_diff\n",
    "\n",
    "main_df['approximate speed'] = approx_speeds\n",
    "\n",
    "# some interpolation...\n",
    "main_df['approximate speed'] = main_df['approximate speed'].interpolate(method='linear').bfill()"
   ]
  },
  {
   "cell_type": "code",
   "execution_count": 663,
   "id": "c0ad9f8d-91cc-4698-bb34-5ecc33e51796",
   "metadata": {
    "tags": []
   },
   "outputs": [
    {
     "data": {
      "text/plain": [
       "count    55796.000000\n",
       "mean        50.482963\n",
       "std         65.261109\n",
       "min          0.001622\n",
       "25%          0.486186\n",
       "50%         13.525630\n",
       "75%         92.860441\n",
       "max        248.658929\n",
       "Name: approximate speed, dtype: float64"
      ]
     },
     "execution_count": 663,
     "metadata": {},
     "output_type": "execute_result"
    }
   ],
   "source": [
    "main_df['approximate speed'].describe()  # is this really a high speed train?"
   ]
  },
  {
   "cell_type": "markdown",
   "id": "722b0d42-e658-494c-aebb-8ade081fdf0c",
   "metadata": {},
   "source": [
    "# Autoregressing these data:\n",
    "\n",
    "## Are there correlations between speed and diagnostic events in the brakes?"
   ]
  },
  {
   "cell_type": "code",
   "execution_count": 691,
   "id": "39e08efb-2fae-4fd2-89f9-5f6a4999f8fa",
   "metadata": {
    "tags": []
   },
   "outputs": [],
   "source": [
    "agg_df = main_df.groupby(['Codice',\n",
    " 'Nome',\n",
    " 'Componente',\n",
    " 'Descrizione']).agg({\n",
    "    'Flotta': 'count',\n",
    "    'Durata': 'mean'})\n",
    "\n",
    "agg_df.columns = ['N_Events',\n",
    " 'Mean_Duration']\n",
    "\n",
    "agg_df.reset_index(inplace=True )\n",
    "agg_df = agg_df.sort_values('N_Events')"
   ]
  },
  {
   "cell_type": "markdown",
   "id": "d7121f3e-b15a-4f91-b536-1d1f8d0f9773",
   "metadata": {},
   "source": [
    "## exctranting the most typical event:"
   ]
  },
  {
   "cell_type": "code",
   "execution_count": 665,
   "id": "efb533e0-0539-43f2-bc6a-6452e1765727",
   "metadata": {
    "tags": []
   },
   "outputs": [],
   "source": [
    "brake_anomalies = agg_df.loc[agg_df['Descrizione'].str.contains('fren')]"
   ]
  },
  {
   "cell_type": "code",
   "execution_count": 692,
   "id": "c0c6e7c3-5d08-454c-8348-a507b9a612ee",
   "metadata": {
    "tags": []
   },
   "outputs": [
    {
     "data": {
      "text/plain": [
       "array([['_BCUBpLeakFlt_', 'Rilevata perdita nella condotta freno', 2],\n",
       "       ['_BpLeakFlt_',\n",
       "        'Rilevata perdita condotta freno e direzione marcia non in posizione neutra',\n",
       "        2],\n",
       "       ['_ParkBrakePrSwHighFlt_',\n",
       "        'Stato indebito alto pressostati freno staz. PFSA e PFSR del 9A08',\n",
       "        3],\n",
       "       ['_ParkBrakePrSwHighFlt_',\n",
       "        'Stato indebito alto pressostati freno staz. PFSA e PFSR del 9A08',\n",
       "        3],\n",
       "       ['_ParkBrakePrSwHighFlt_',\n",
       "        'Stato indebito alto pressostati freno staz. PFSA e PFSR del 9A08',\n",
       "        3],\n",
       "       ['_ParkBrakePrSwHighFlt_',\n",
       "        'Stato indebito alto pressostati freno staz. PFSA e PFSR del 9A08',\n",
       "        5],\n",
       "       ['_BCUBpLeakFlt_', 'Rilevata perdita nella condotta freno', 11],\n",
       "       ['_ManDbvIsol_',\n",
       "        'Rubinetto RIM 9S30 chiuso (valvola freni macchinista isolata man.)',\n",
       "        21],\n",
       "       ['_ManDbvIsol_',\n",
       "        'Rubinetto RIM 9S30 chiuso (valvola freni macchinista isolata man.)',\n",
       "        38],\n",
       "       ['_Ed1Low_',\n",
       "        'Sforzo frenatura dinamica insufficiente in frenatura di servizio',\n",
       "        48],\n",
       "       ['_Ed1Low_',\n",
       "        'Sforzo frenatura dinamica insufficiente in frenatura di servizio',\n",
       "        49],\n",
       "       ['_Ed2Low_',\n",
       "        'Sforzo frenatura dinamica insufficiente in frenatura di servizio',\n",
       "        52],\n",
       "       ['_Ed2Low_',\n",
       "        'Sforzo frenatura dinamica insufficiente in frenatura di servizio',\n",
       "        55],\n",
       "       ['BRKSTS_TL_Inc1',\n",
       "        'Incongruenza BRAKE_STATUS_TL e manettino di frenatura M1', 69],\n",
       "       ['BRKSTS_TL_Inc1',\n",
       "        'Incongruenza BRAKE_STATUS_TL e manettino di frenatura M8', 91],\n",
       "       ['9K48_Emg',\n",
       "        'Frenatura di emergenza attivata da leva di frenatura in M8',\n",
       "        266],\n",
       "       ['9K48_Emg',\n",
       "        'Frenatura di emergenza attivata da leva di frenatura in M1',\n",
       "        294],\n",
       "       ['ILCK_PROP_01',\n",
       "        'Cod. 01 Max fren. di servizio richiesta da segnalamento', 370],\n",
       "       ['ILCK_PROP_03',\n",
       "        'Cod. 03 Comando di frenatura da manipolatore attivo', 3647]],\n",
       "      dtype=object)"
      ]
     },
     "execution_count": 692,
     "metadata": {},
     "output_type": "execute_result"
    }
   ],
   "source": [
    "brake_anomalies[['Nome', 'Descrizione','N_Events']].values"
   ]
  },
  {
   "cell_type": "code",
   "execution_count": 696,
   "id": "496ac9a4-c005-47e2-88d7-64e490a0166b",
   "metadata": {
    "tags": []
   },
   "outputs": [],
   "source": [
    "emergency_brake_df = main_df.loc[main_df['Nome']== '9K48_Emg']\n",
    "ert700_df = main_df.loc[main_df['Nome']=='ILCK_PROP_03']\n",
    "\n",
    "# Step 1: Identify columns with all NaN values\n",
    "columns_to_drop_ert700 = ert700_df.columns[ert700_df.isna().all()]\n",
    "columns_to_drop_eb = emergency_brake_df.columns[emergency_brake_df.isna().all()]\n",
    "\n",
    "ert700_df = ert700_df.drop(columns=columns_to_drop_ert700)\n",
    "emergency_brake_df = emergency_brake_df.drop(columns=columns_to_drop_eb)"
   ]
  },
  {
   "cell_type": "code",
   "execution_count": 694,
   "id": "578fa2fd-2231-4548-997c-2e4bd43d0e5c",
   "metadata": {
    "tags": []
   },
   "outputs": [
    {
     "data": {
      "text/plain": [
       "{'Flotta': 'ETR700',\n",
       " 'Veicolo': 'e700_4801',\n",
       " 'Codice': 'ILCK_PROP_03',\n",
       " 'Nome': 'ILCK_PROP_03',\n",
       " 'Descrizione': 'Cod. 03 Comando di frenatura da manipolatore attivo',\n",
       " 'Test': 'N',\n",
       " 'Sistema': 'VEHICLE',\n",
       " 'Componente': 'VEHICLE'}"
      ]
     },
     "execution_count": 694,
     "metadata": {},
     "output_type": "execute_result"
    }
   ],
   "source": [
    "# Identify columns with a single unique value\n",
    "unique_value_columns_ert = ert700_df.nunique() == 1\n",
    "dict(ert700_df[unique_value_columns_ert[unique_value_columns_ert].index.tolist()].iloc[0])"
   ]
  },
  {
   "cell_type": "code",
   "execution_count": 700,
   "id": "d8d25715-a428-4ab6-ae06-001bd1b13d5d",
   "metadata": {
    "tags": []
   },
   "outputs": [
    {
     "data": {
      "text/plain": [
       "{'Flotta': 'ETR700',\n",
       " 'Veicolo': 'e700_4801',\n",
       " 'Nome': '9K48_Emg',\n",
       " 'Test': 'N',\n",
       " 'Sistema': 'FRENO',\n",
       " 'Componente': 'FRENO',\n",
       " 'HMI_ACPntSts_T2': 0.0,\n",
       " 'HMI_ACPntSts_T7': 0.0,\n",
       " 'LineVoltType': 2.0,\n",
       " 'MDS_LedLimVel': 0.0,\n",
       " 'MDS_StatoMarcia': 1.0}"
      ]
     },
     "execution_count": 700,
     "metadata": {},
     "output_type": "execute_result"
    }
   ],
   "source": [
    "unique_value_columns_eb = emergency_brake_df.nunique() == 1\n",
    "dict(emergency_brake_df[unique_value_columns_eb[unique_value_columns_eb].index.tolist()].iloc[0])"
   ]
  },
  {
   "cell_type": "code",
   "execution_count": 701,
   "id": "3bc762ee-2ba8-48bb-a14e-9fdf335a41ce",
   "metadata": {
    "tags": []
   },
   "outputs": [],
   "source": [
    "# Drop these columns\n",
    "ert700_df = ert700_df.loc[:, ~unique_value_columns_ert]\n",
    "emergency_break_df = emergency_brake_df.loc[:, ~unique_value_columns_eb]"
   ]
  },
  {
   "cell_type": "code",
   "execution_count": 702,
   "id": "9da70773-c9e5-45da-965a-d7afb1594d9f",
   "metadata": {
    "tags": []
   },
   "outputs": [],
   "source": [
    "ert700_df = ert700_df.sort_values('Timestamp')\n",
    "emergency_brake_df = emergency_brake_df.sort_values('Timestamp')"
   ]
  },
  {
   "cell_type": "markdown",
   "id": "f0047143-d0e7-4036-b4c8-a6012f171126",
   "metadata": {
    "tags": []
   },
   "source": [
    "## Seems the train is going from Milano to Trieste back and forth..."
   ]
  },
  {
   "cell_type": "code",
   "execution_count": 703,
   "id": "9adeb7a7-ddb0-49db-9e67-6cdde030998e",
   "metadata": {
    "tags": []
   },
   "outputs": [],
   "source": [
    "station_changes_df = ert700_df.loc[ert700_df['Posizione']!=ert700_df['Posizione'].shift(1)]"
   ]
  },
  {
   "cell_type": "code",
   "execution_count": 704,
   "id": "16feea72-45ed-41e2-8000-4671164a786e",
   "metadata": {
    "tags": []
   },
   "outputs": [
    {
     "data": {
      "text/html": [
       "<div>\n",
       "<style scoped>\n",
       "    .dataframe tbody tr th:only-of-type {\n",
       "        vertical-align: middle;\n",
       "    }\n",
       "\n",
       "    .dataframe tbody tr th {\n",
       "        vertical-align: top;\n",
       "    }\n",
       "\n",
       "    .dataframe thead th {\n",
       "        text-align: right;\n",
       "    }\n",
       "</style>\n",
       "<table border=\"1\" class=\"dataframe\">\n",
       "  <thead>\n",
       "    <tr style=\"text-align: right;\">\n",
       "      <th></th>\n",
       "      <th>Timestamp</th>\n",
       "      <th>Timestamp chiusura</th>\n",
       "      <th>Durata</th>\n",
       "      <th>Posizione</th>\n",
       "      <th>Latitudine</th>\n",
       "      <th>Longitudine</th>\n",
       "      <th>Contemporaneo</th>\n",
       "      <th>Timestamp segnale</th>\n",
       "      <th>CabEnabled_M1</th>\n",
       "      <th>CabEnabled_M8</th>\n",
       "      <th>...</th>\n",
       "      <th>usB2BCilPres_T2</th>\n",
       "      <th>usB2BCilPres_T4</th>\n",
       "      <th>usB2BCilPres_T5</th>\n",
       "      <th>usB2BCilPres_T7</th>\n",
       "      <th>usBpPres</th>\n",
       "      <th>usMpPres</th>\n",
       "      <th>time_diff</th>\n",
       "      <th>approximate speed</th>\n",
       "      <th>event_change</th>\n",
       "      <th>time_change</th>\n",
       "    </tr>\n",
       "  </thead>\n",
       "  <tbody>\n",
       "    <tr>\n",
       "      <th>53805</th>\n",
       "      <td>2022-03-07 11:41:45.345</td>\n",
       "      <td>2022-03-07 11:42:03.756</td>\n",
       "      <td>19.0</td>\n",
       "      <td>Ruda</td>\n",
       "      <td>45.8125</td>\n",
       "      <td>13.4400</td>\n",
       "      <td>1</td>\n",
       "      <td>2022-03-07 11:41:45.345</td>\n",
       "      <td>0.0</td>\n",
       "      <td>1.0</td>\n",
       "      <td>...</td>\n",
       "      <td>0.00</td>\n",
       "      <td>0.01</td>\n",
       "      <td>0.0</td>\n",
       "      <td>0.01</td>\n",
       "      <td>4.89</td>\n",
       "      <td>8.72</td>\n",
       "      <td>0.002334</td>\n",
       "      <td>119.768237</td>\n",
       "      <td>True</td>\n",
       "      <td>True</td>\n",
       "    </tr>\n",
       "    <tr>\n",
       "      <th>53803</th>\n",
       "      <td>2022-03-07 11:42:52.347</td>\n",
       "      <td>2022-03-07 11:43:18.948</td>\n",
       "      <td>27.0</td>\n",
       "      <td>San Canzian d'Isonzo</td>\n",
       "      <td>45.8163</td>\n",
       "      <td>13.4676</td>\n",
       "      <td>1</td>\n",
       "      <td>2022-03-07 11:42:52.347</td>\n",
       "      <td>0.0</td>\n",
       "      <td>1.0</td>\n",
       "      <td>...</td>\n",
       "      <td>0.00</td>\n",
       "      <td>0.00</td>\n",
       "      <td>0.0</td>\n",
       "      <td>0.09</td>\n",
       "      <td>4.94</td>\n",
       "      <td>9.48</td>\n",
       "      <td>0.007277</td>\n",
       "      <td>69.031656</td>\n",
       "      <td>False</td>\n",
       "      <td>True</td>\n",
       "    </tr>\n",
       "    <tr>\n",
       "      <th>53802</th>\n",
       "      <td>2022-03-07 11:43:23.745</td>\n",
       "      <td>2022-03-07 11:44:09.349</td>\n",
       "      <td>46.0</td>\n",
       "      <td>Ronchi dei Legionari</td>\n",
       "      <td>45.8169</td>\n",
       "      <td>13.4771</td>\n",
       "      <td>1</td>\n",
       "      <td>2022-03-07 11:43:23.745</td>\n",
       "      <td>0.0</td>\n",
       "      <td>1.0</td>\n",
       "      <td>...</td>\n",
       "      <td>0.00</td>\n",
       "      <td>0.00</td>\n",
       "      <td>0.0</td>\n",
       "      <td>0.01</td>\n",
       "      <td>4.94</td>\n",
       "      <td>9.11</td>\n",
       "      <td>0.008832</td>\n",
       "      <td>43.663365</td>\n",
       "      <td>False</td>\n",
       "      <td>True</td>\n",
       "    </tr>\n",
       "    <tr>\n",
       "      <th>53673</th>\n",
       "      <td>2022-03-07 12:10:17.349</td>\n",
       "      <td>2022-03-07 12:10:20.35</td>\n",
       "      <td>4.0</td>\n",
       "      <td>Trieste</td>\n",
       "      <td>45.6700</td>\n",
       "      <td>13.7595</td>\n",
       "      <td>0</td>\n",
       "      <td>2022-03-07 12:10:15.544</td>\n",
       "      <td>0.0</td>\n",
       "      <td>1.0</td>\n",
       "      <td>...</td>\n",
       "      <td>0.00</td>\n",
       "      <td>0.00</td>\n",
       "      <td>0.0</td>\n",
       "      <td>0.00</td>\n",
       "      <td>4.95</td>\n",
       "      <td>8.49</td>\n",
       "      <td>0.000000</td>\n",
       "      <td>48.690263</td>\n",
       "      <td>False</td>\n",
       "      <td>False</td>\n",
       "    </tr>\n",
       "    <tr>\n",
       "      <th>52658</th>\n",
       "      <td>2022-03-07 17:23:30.007</td>\n",
       "      <td>2022-03-07 17:23:47.608</td>\n",
       "      <td>18.0</td>\n",
       "      <td>Doberdò del Lago</td>\n",
       "      <td>45.8038</td>\n",
       "      <td>13.5824</td>\n",
       "      <td>1</td>\n",
       "      <td>2022-03-07 17:23:30.007</td>\n",
       "      <td>1.0</td>\n",
       "      <td>0.0</td>\n",
       "      <td>...</td>\n",
       "      <td>0.02</td>\n",
       "      <td>0.00</td>\n",
       "      <td>0.0</td>\n",
       "      <td>0.00</td>\n",
       "      <td>4.95</td>\n",
       "      <td>8.83</td>\n",
       "      <td>0.000334</td>\n",
       "      <td>56.646537</td>\n",
       "      <td>True</td>\n",
       "      <td>True</td>\n",
       "    </tr>\n",
       "    <tr>\n",
       "      <th>52641</th>\n",
       "      <td>2022-03-07 17:26:26.206</td>\n",
       "      <td>2022-03-07 17:27:00.609</td>\n",
       "      <td>35.0</td>\n",
       "      <td>Ronchi dei Legionari</td>\n",
       "      <td>45.8061</td>\n",
       "      <td>13.5508</td>\n",
       "      <td>1</td>\n",
       "      <td>2022-03-07 17:26:26.206</td>\n",
       "      <td>1.0</td>\n",
       "      <td>0.0</td>\n",
       "      <td>...</td>\n",
       "      <td>0.00</td>\n",
       "      <td>0.00</td>\n",
       "      <td>0.0</td>\n",
       "      <td>0.01</td>\n",
       "      <td>4.90</td>\n",
       "      <td>8.61</td>\n",
       "      <td>0.005836</td>\n",
       "      <td>29.619637</td>\n",
       "      <td>True</td>\n",
       "      <td>True</td>\n",
       "    </tr>\n",
       "    <tr>\n",
       "      <th>52415</th>\n",
       "      <td>2022-03-07 17:40:08.204</td>\n",
       "      <td>2022-03-07 17:40:13.008</td>\n",
       "      <td>5.0</td>\n",
       "      <td>Ruda</td>\n",
       "      <td>45.8119</td>\n",
       "      <td>13.4023</td>\n",
       "      <td>1</td>\n",
       "      <td>2022-03-07 17:40:08.204</td>\n",
       "      <td>1.0</td>\n",
       "      <td>0.0</td>\n",
       "      <td>...</td>\n",
       "      <td>0.00</td>\n",
       "      <td>0.00</td>\n",
       "      <td>0.0</td>\n",
       "      <td>0.01</td>\n",
       "      <td>4.95</td>\n",
       "      <td>8.47</td>\n",
       "      <td>0.001113</td>\n",
       "      <td>88.622813</td>\n",
       "      <td>True</td>\n",
       "      <td>True</td>\n",
       "    </tr>\n",
       "  </tbody>\n",
       "</table>\n",
       "<p>7 rows × 53 columns</p>\n",
       "</div>"
      ],
      "text/plain": [
       "                    Timestamp       Timestamp chiusura  Durata  \\\n",
       "53805 2022-03-07 11:41:45.345  2022-03-07 11:42:03.756    19.0   \n",
       "53803 2022-03-07 11:42:52.347  2022-03-07 11:43:18.948    27.0   \n",
       "53802 2022-03-07 11:43:23.745  2022-03-07 11:44:09.349    46.0   \n",
       "53673 2022-03-07 12:10:17.349   2022-03-07 12:10:20.35     4.0   \n",
       "52658 2022-03-07 17:23:30.007  2022-03-07 17:23:47.608    18.0   \n",
       "52641 2022-03-07 17:26:26.206  2022-03-07 17:27:00.609    35.0   \n",
       "52415 2022-03-07 17:40:08.204  2022-03-07 17:40:13.008     5.0   \n",
       "\n",
       "                  Posizione  Latitudine  Longitudine  Contemporaneo  \\\n",
       "53805                  Ruda     45.8125      13.4400              1   \n",
       "53803  San Canzian d'Isonzo     45.8163      13.4676              1   \n",
       "53802  Ronchi dei Legionari     45.8169      13.4771              1   \n",
       "53673               Trieste     45.6700      13.7595              0   \n",
       "52658      Doberdò del Lago     45.8038      13.5824              1   \n",
       "52641  Ronchi dei Legionari     45.8061      13.5508              1   \n",
       "52415                  Ruda     45.8119      13.4023              1   \n",
       "\n",
       "             Timestamp segnale  CabEnabled_M1  CabEnabled_M8  ...  \\\n",
       "53805  2022-03-07 11:41:45.345            0.0            1.0  ...   \n",
       "53803  2022-03-07 11:42:52.347            0.0            1.0  ...   \n",
       "53802  2022-03-07 11:43:23.745            0.0            1.0  ...   \n",
       "53673  2022-03-07 12:10:15.544            0.0            1.0  ...   \n",
       "52658  2022-03-07 17:23:30.007            1.0            0.0  ...   \n",
       "52641  2022-03-07 17:26:26.206            1.0            0.0  ...   \n",
       "52415  2022-03-07 17:40:08.204            1.0            0.0  ...   \n",
       "\n",
       "       usB2BCilPres_T2  usB2BCilPres_T4  usB2BCilPres_T5  usB2BCilPres_T7  \\\n",
       "53805             0.00             0.01              0.0             0.01   \n",
       "53803             0.00             0.00              0.0             0.09   \n",
       "53802             0.00             0.00              0.0             0.01   \n",
       "53673             0.00             0.00              0.0             0.00   \n",
       "52658             0.02             0.00              0.0             0.00   \n",
       "52641             0.00             0.00              0.0             0.01   \n",
       "52415             0.00             0.00              0.0             0.01   \n",
       "\n",
       "       usBpPres  usMpPres  time_diff  approximate speed  event_change  \\\n",
       "53805      4.89      8.72   0.002334         119.768237          True   \n",
       "53803      4.94      9.48   0.007277          69.031656         False   \n",
       "53802      4.94      9.11   0.008832          43.663365         False   \n",
       "53673      4.95      8.49   0.000000          48.690263         False   \n",
       "52658      4.95      8.83   0.000334          56.646537          True   \n",
       "52641      4.90      8.61   0.005836          29.619637          True   \n",
       "52415      4.95      8.47   0.001113          88.622813          True   \n",
       "\n",
       "       time_change  \n",
       "53805         True  \n",
       "53803         True  \n",
       "53802         True  \n",
       "53673        False  \n",
       "52658         True  \n",
       "52641         True  \n",
       "52415         True  \n",
       "\n",
       "[7 rows x 53 columns]"
      ]
     },
     "execution_count": 704,
     "metadata": {},
     "output_type": "execute_result"
    }
   ],
   "source": [
    "station_changes_df[28:35]"
   ]
  },
  {
   "cell_type": "markdown",
   "id": "3fbe39fe-b6fa-42da-b91c-993dbc370979",
   "metadata": {
    "tags": []
   },
   "source": [
    "## Are brakes working?"
   ]
  },
  {
   "cell_type": "markdown",
   "id": "6fa4137f-b9e3-41a3-8249-42bd1b79b754",
   "metadata": {},
   "source": [
    "we take records before and after this breaking command and see what happens to speed..."
   ]
  },
  {
   "cell_type": "code",
   "execution_count": 805,
   "id": "c597dab2-2a96-45aa-baa5-6c76fbe758ee",
   "metadata": {
    "tags": []
   },
   "outputs": [],
   "source": [
    "event_change = main_df['Nome'] != main_df['Nome'].shift(1)\n",
    "main_df['event_change'] = event_change\n",
    "time_change = main_df['Timestamp'] != main_df['Timestamp'].shift(1)\n",
    "main_df['time_change'] = time_change\n",
    "\n",
    "speed_df = main_df[['Timestamp', 'approximate speed', 'Nome', 'event_change', 'time_change']].copy()\n",
    "speed_df = speed_df.reset_index()"
   ]
  },
  {
   "cell_type": "code",
   "execution_count": 806,
   "id": "35aff767-62cc-4e9f-a914-07f9b43a2042",
   "metadata": {
    "tags": []
   },
   "outputs": [],
   "source": [
    "time_change_df = speed_df.loc[speed_df['time_change']].copy().reset_index()\n",
    "braking_df = speed_df.loc[speed_df['Nome']=='9K48_Emg'].copy()\n",
    "event_change_df = speed_df.loc[speed_df['event_change']].copy()"
   ]
  },
  {
   "cell_type": "code",
   "execution_count": 807,
   "id": "2d741785-316c-465d-8160-c2509a3277f4",
   "metadata": {
    "tags": []
   },
   "outputs": [
    {
     "data": {
      "application/vnd.jupyter.widget-view+json": {
       "model_id": "c430608e0a4d4c8198015f5d4b1a4016",
       "version_major": 2,
       "version_minor": 0
      },
      "text/plain": [
       "  0%|          | 0/59 [00:00<?, ?it/s]"
      ]
     },
     "metadata": {},
     "output_type": "display_data"
    }
   ],
   "source": [
    "prev_window_size = 10\n",
    "post_window_size = 10\n",
    "chunks = []\n",
    "\n",
    "for index in tqdm(time_change_df.loc[time_change_df['Nome']=='9K48_Emg'].index):\n",
    "\n",
    "    # Define start and end indices for the chunk\n",
    "    start_index = max(0, index - prev_window_size)  # Ensure start doesn't go below 0\n",
    "    end_index = min(time_change_df.index.max(), index + post_window_size + 1)  # Ensure end doesn't go beyond DataFrame length\n",
    "    # Extract the chunk and append it to the list\n",
    "    chunk = time_change_df.iloc[start_index:end_index].copy()\n",
    "    chunk['braking'] = chunk['Nome'] == '9K48_Emg'\n",
    "\n",
    "    if len(chunk) > 0:\n",
    "        chunk['rel_time'] = chunk['Timestamp'] - chunk['Timestamp'].iloc[0]\n",
    "        chunk['rel_time'] = pd.to_timedelta(chunk['rel_time']).apply(lambda x: \\\n",
    "                                              x.total_seconds() * 10**6 \\\n",
    "                                              + x.microseconds)\n",
    "        chunk['rel_time'] = chunk['rel_time'] / 10**6\n",
    "\n",
    "        chunks.append(chunk[['Timestamp','rel_time', 'approximate speed', 'braking']])"
   ]
  },
  {
   "cell_type": "code",
   "execution_count": 808,
   "id": "e0cea1bd-5e2f-4905-b987-0f1887678c2e",
   "metadata": {
    "tags": []
   },
   "outputs": [],
   "source": [
    "def plot_brake_influence(current_chunk):\n",
    "\n",
    "    # Create the plot\n",
    "    fig, ax = plt.subplots(figsize=(8, 5))\n",
    "\n",
    "    not_braking_points = current_chunk.loc[current_chunk['braking']==False]\n",
    "    braking_points = current_chunk.loc[current_chunk['braking']==True]\n",
    "\n",
    "    average_speed_by_time = (\n",
    "        current_chunk.groupby('rel_time')['approximate speed'].mean()\n",
    "    )\n",
    "\n",
    "    # Plot the average speed line\n",
    "    ax.plot(average_speed_by_time.index, average_speed_by_time.values, color='blue')\n",
    "\n",
    "    # Plot vertical lines for braking times\n",
    "    braking_times = current_chunk[current_chunk['braking'] == True]['rel_time']\n",
    "    ax.vlines(braking_times, ymin=0, ymax=average_speed_by_time.max(), color='red', linestyle='--')\n",
    "\n",
    "\n",
    "    # Label the axes\n",
    "    ax.set_xlabel('Time (microsecs)')\n",
    "    ax.set_ylabel('Speed (km/h)')\n",
    "\n",
    "    # Add a title\n",
    "    ax.set_title('Speed Over Time with Braking Indication')\n",
    "\n",
    "    # Optional: Customize grid and legend\n",
    "    ax.grid(True)\n",
    "    # Uncomment to add a legend (if needed)\n",
    "    # plt.legend()\n",
    "\n",
    "    # Show the plot\n",
    "    plt.show()\n"
   ]
  },
  {
   "cell_type": "code",
   "execution_count": 809,
   "id": "629b81ec-a08e-4d4e-b41e-e9b00d50fcdc",
   "metadata": {},
   "outputs": [
    {
     "data": {
      "image/png": "[encoded data removed]",
      "text/plain": [
       "<Figure size 800x500 with 1 Axes>"
      ]
     },
     "metadata": {},
     "output_type": "display_data"
    },
    {
     "data": {
      "image/png": "[encoded data removed]",
      "text/plain": [
       "<Figure size 800x500 with 1 Axes>"
      ]
     },
     "metadata": {},
     "output_type": "display_data"
    }
   ],
   "source": [
    "for current_chunk in chunks[2:4]:\n",
    "    plot_brake_influence(current_chunk)"
   ]
  },
  {
   "cell_type": "markdown",
   "id": "11514d96-e1ce-44d0-8862-de8888892d32",
   "metadata": {},
   "source": [
    "### Seems that something's wrong with the second pattern!"
   ]
  },
  {
   "cell_type": "code",
   "execution_count": 822,
   "id": "1262ed17-c32b-4610-8e4d-a34bdcdccb63",
   "metadata": {
    "tags": []
   },
   "outputs": [
    {
     "data": {
      "image/png": "[encoded data removed]",
      "text/plain": [
       "<Figure size 800x500 with 1 Axes>"
      ]
     },
     "metadata": {},
     "output_type": "display_data"
    }
   ],
   "source": [
    "plot_brake_influence(chunks[2])"
   ]
  },
  {
   "cell_type": "code",
   "execution_count": 823,
   "id": "3b268795-61c9-418e-8739-d18dc6a220f9",
   "metadata": {
    "tags": []
   },
   "outputs": [
    {
     "data": {
      "text/html": [
       "<div>\n",
       "<style scoped>\n",
       "    .dataframe tbody tr th:only-of-type {\n",
       "        vertical-align: middle;\n",
       "    }\n",
       "\n",
       "    .dataframe tbody tr th {\n",
       "        vertical-align: top;\n",
       "    }\n",
       "\n",
       "    .dataframe thead th {\n",
       "        text-align: right;\n",
       "    }\n",
       "</style>\n",
       "<table border=\"1\" class=\"dataframe\">\n",
       "  <thead>\n",
       "    <tr style=\"text-align: right;\">\n",
       "      <th></th>\n",
       "      <th>Timestamp</th>\n",
       "      <th>rel_time</th>\n",
       "      <th>approximate speed</th>\n",
       "      <th>braking</th>\n",
       "    </tr>\n",
       "  </thead>\n",
       "  <tbody>\n",
       "    <tr>\n",
       "      <th>92</th>\n",
       "      <td>2022-03-07 06:48:53.137</td>\n",
       "      <td>0.000</td>\n",
       "      <td>0.502796</td>\n",
       "      <td>False</td>\n",
       "    </tr>\n",
       "    <tr>\n",
       "      <th>93</th>\n",
       "      <td>2022-03-07 06:48:54.739</td>\n",
       "      <td>2.204</td>\n",
       "      <td>0.483993</td>\n",
       "      <td>False</td>\n",
       "    </tr>\n",
       "    <tr>\n",
       "      <th>94</th>\n",
       "      <td>2022-03-07 06:50:20.744</td>\n",
       "      <td>88.214</td>\n",
       "      <td>0.448604</td>\n",
       "      <td>False</td>\n",
       "    </tr>\n",
       "    <tr>\n",
       "      <th>95</th>\n",
       "      <td>2022-03-07 06:51:49.339</td>\n",
       "      <td>176.404</td>\n",
       "      <td>0.452072</td>\n",
       "      <td>False</td>\n",
       "    </tr>\n",
       "    <tr>\n",
       "      <th>96</th>\n",
       "      <td>2022-03-07 06:51:59.541</td>\n",
       "      <td>186.808</td>\n",
       "      <td>0.455540</td>\n",
       "      <td>False</td>\n",
       "    </tr>\n",
       "    <tr>\n",
       "      <th>97</th>\n",
       "      <td>2022-03-07 06:51:59.739</td>\n",
       "      <td>187.204</td>\n",
       "      <td>0.462477</td>\n",
       "      <td>False</td>\n",
       "    </tr>\n",
       "    <tr>\n",
       "      <th>98</th>\n",
       "      <td>2022-03-07 06:52:12.546</td>\n",
       "      <td>199.818</td>\n",
       "      <td>0.469413</td>\n",
       "      <td>False</td>\n",
       "    </tr>\n",
       "    <tr>\n",
       "      <th>99</th>\n",
       "      <td>2022-03-07 06:52:12.744</td>\n",
       "      <td>200.214</td>\n",
       "      <td>0.479818</td>\n",
       "      <td>False</td>\n",
       "    </tr>\n",
       "    <tr>\n",
       "      <th>100</th>\n",
       "      <td>2022-03-07 06:52:19.940</td>\n",
       "      <td>207.606</td>\n",
       "      <td>0.490223</td>\n",
       "      <td>False</td>\n",
       "    </tr>\n",
       "    <tr>\n",
       "      <th>101</th>\n",
       "      <td>2022-03-07 06:52:30.141</td>\n",
       "      <td>217.008</td>\n",
       "      <td>0.493692</td>\n",
       "      <td>False</td>\n",
       "    </tr>\n",
       "    <tr>\n",
       "      <th>102</th>\n",
       "      <td>2022-03-07 06:52:30.548</td>\n",
       "      <td>217.822</td>\n",
       "      <td>0.500628</td>\n",
       "      <td>True</td>\n",
       "    </tr>\n",
       "    <tr>\n",
       "      <th>103</th>\n",
       "      <td>2022-03-07 06:52:31.551</td>\n",
       "      <td>218.828</td>\n",
       "      <td>0.521438</td>\n",
       "      <td>False</td>\n",
       "    </tr>\n",
       "    <tr>\n",
       "      <th>104</th>\n",
       "      <td>2022-03-07 06:52:39.742</td>\n",
       "      <td>227.210</td>\n",
       "      <td>0.535311</td>\n",
       "      <td>False</td>\n",
       "    </tr>\n",
       "    <tr>\n",
       "      <th>105</th>\n",
       "      <td>2022-03-07 06:52:39.946</td>\n",
       "      <td>227.618</td>\n",
       "      <td>0.545716</td>\n",
       "      <td>False</td>\n",
       "    </tr>\n",
       "    <tr>\n",
       "      <th>106</th>\n",
       "      <td>2022-03-07 06:52:40.143</td>\n",
       "      <td>227.012</td>\n",
       "      <td>0.556121</td>\n",
       "      <td>False</td>\n",
       "    </tr>\n",
       "    <tr>\n",
       "      <th>107</th>\n",
       "      <td>2022-03-07 06:52:51.544</td>\n",
       "      <td>238.814</td>\n",
       "      <td>0.566526</td>\n",
       "      <td>False</td>\n",
       "    </tr>\n",
       "    <tr>\n",
       "      <th>108</th>\n",
       "      <td>2022-03-07 06:52:51.742</td>\n",
       "      <td>239.210</td>\n",
       "      <td>0.670575</td>\n",
       "      <td>False</td>\n",
       "    </tr>\n",
       "    <tr>\n",
       "      <th>109</th>\n",
       "      <td>2022-03-07 06:53:08.542</td>\n",
       "      <td>255.810</td>\n",
       "      <td>0.739941</td>\n",
       "      <td>False</td>\n",
       "    </tr>\n",
       "    <tr>\n",
       "      <th>110</th>\n",
       "      <td>2022-03-07 06:54:39.740</td>\n",
       "      <td>347.206</td>\n",
       "      <td>0.743410</td>\n",
       "      <td>False</td>\n",
       "    </tr>\n",
       "    <tr>\n",
       "      <th>111</th>\n",
       "      <td>2022-03-07 06:54:52.943</td>\n",
       "      <td>360.612</td>\n",
       "      <td>0.746878</td>\n",
       "      <td>False</td>\n",
       "    </tr>\n",
       "    <tr>\n",
       "      <th>112</th>\n",
       "      <td>2022-03-07 06:55:12.540</td>\n",
       "      <td>379.806</td>\n",
       "      <td>0.750346</td>\n",
       "      <td>False</td>\n",
       "    </tr>\n",
       "  </tbody>\n",
       "</table>\n",
       "</div>"
      ],
      "text/plain": [
       "                  Timestamp  rel_time  approximate speed  braking\n",
       "92  2022-03-07 06:48:53.137     0.000           0.502796    False\n",
       "93  2022-03-07 06:48:54.739     2.204           0.483993    False\n",
       "94  2022-03-07 06:50:20.744    88.214           0.448604    False\n",
       "95  2022-03-07 06:51:49.339   176.404           0.452072    False\n",
       "96  2022-03-07 06:51:59.541   186.808           0.455540    False\n",
       "97  2022-03-07 06:51:59.739   187.204           0.462477    False\n",
       "98  2022-03-07 06:52:12.546   199.818           0.469413    False\n",
       "99  2022-03-07 06:52:12.744   200.214           0.479818    False\n",
       "100 2022-03-07 06:52:19.940   207.606           0.490223    False\n",
       "101 2022-03-07 06:52:30.141   217.008           0.493692    False\n",
       "102 2022-03-07 06:52:30.548   217.822           0.500628     True\n",
       "103 2022-03-07 06:52:31.551   218.828           0.521438    False\n",
       "104 2022-03-07 06:52:39.742   227.210           0.535311    False\n",
       "105 2022-03-07 06:52:39.946   227.618           0.545716    False\n",
       "106 2022-03-07 06:52:40.143   227.012           0.556121    False\n",
       "107 2022-03-07 06:52:51.544   238.814           0.566526    False\n",
       "108 2022-03-07 06:52:51.742   239.210           0.670575    False\n",
       "109 2022-03-07 06:53:08.542   255.810           0.739941    False\n",
       "110 2022-03-07 06:54:39.740   347.206           0.743410    False\n",
       "111 2022-03-07 06:54:52.943   360.612           0.746878    False\n",
       "112 2022-03-07 06:55:12.540   379.806           0.750346    False"
      ]
     },
     "execution_count": 823,
     "metadata": {},
     "output_type": "execute_result"
    }
   ],
   "source": [
    "chunks[2]"
   ]
  },
  {
   "cell_type": "markdown",
   "id": "dea1fd7f-f0b1-41c9-8138-621e2239c02d",
   "metadata": {},
   "source": [
    "### Are there some suspicios signals around that time?"
   ]
  },
  {
   "cell_type": "code",
   "execution_count": 828,
   "id": "e84e2544-10c3-4b76-aa4c-a83fd8f37f86",
   "metadata": {
    "tags": []
   },
   "outputs": [],
   "source": [
    "context_df = main_df.loc[\n",
    "    (main_df['Timestamp']<pd.Timestamp('2022-03-07 06:52:45.143')) \\\n",
    "    & (main_df['Timestamp']>pd.Timestamp('2022-03-07 06:52:20.143')) ]"
   ]
  },
  {
   "cell_type": "code",
   "execution_count": 829,
   "id": "06e66dfa-fbca-40c0-8468-563012346ed5",
   "metadata": {
    "tags": []
   },
   "outputs": [
    {
     "data": {
      "text/plain": [
       "array(['Cod. 03 Comando di frenatura da manipolatore attivo',\n",
       "       'Frenatura di emergenza attivata da leva di frenatura in M1',\n",
       "       'Cod. 18 Linea Emergenza Attiva',\n",
       "       'Cod. 04 Condotta Generale scarica',\n",
       "       'Cod. 14 Nessuna direzione impostata',\n",
       "       'Apertura forz. contatt. Convert. Princip. DC'], dtype=object)"
      ]
     },
     "execution_count": 829,
     "metadata": {},
     "output_type": "execute_result"
    }
   ],
   "source": [
    "context_df['Descrizione'].unique()"
   ]
  },
  {
   "cell_type": "markdown",
   "id": "bfd56e41-2b0d-4896-9e4a-7d6e7a4f16fc",
   "metadata": {},
   "source": [
    "## What about the other brakes?"
   ]
  },
  {
   "cell_type": "code",
   "execution_count": 800,
   "id": "3c8f474b-b5e4-49c7-8239-2058d592826b",
   "metadata": {
    "tags": []
   },
   "outputs": [
    {
     "data": {
      "application/vnd.jupyter.widget-view+json": {
       "model_id": "5f4750c54ca148a391fb75770081a4a8",
       "version_major": 2,
       "version_minor": 0
      },
      "text/plain": [
       "  0%|          | 0/1444 [00:00<?, ?it/s]"
      ]
     },
     "metadata": {},
     "output_type": "display_data"
    }
   ],
   "source": [
    "prev_window_size = 10\n",
    "post_window_size = 10\n",
    "chunks = []\n",
    "\n",
    "for index in tqdm(time_change_df.loc[time_change_df['Nome']=='ILCK_PROP_03'].index):\n",
    "\n",
    "    # Define start and end indices for the chunk\n",
    "    start_index = max(0, index - prev_window_size)  # Ensure start doesn't go below 0\n",
    "    end_index = min(time_change_df.index.max(), index + post_window_size + 1)  # Ensure end doesn't go beyond DataFrame length\n",
    "    # Extract the chunk and append it to the list\n",
    "    chunk = time_change_df.iloc[start_index:end_index].copy()\n",
    "    chunk['braking'] = chunk['Nome'] == 'ILCK_PROP_03'\n",
    "\n",
    "    if len(chunk) > 0:\n",
    "        chunk['rel_time'] = chunk['Timestamp'] - chunk['Timestamp'].iloc[0]\n",
    "        chunk['rel_time'] = pd.to_timedelta(chunk['rel_time']).apply(lambda x: \\\n",
    "                                              x.total_seconds() * 10**6 \\\n",
    "                                              + x.microseconds)\n",
    "        chunk['rel_time'] = chunk['rel_time'] / 10**6\n",
    "\n",
    "        chunks.append(chunk[['Timestamp','rel_time', 'approximate speed', 'braking']])"
   ]
  },
  {
   "cell_type": "code",
   "execution_count": 801,
   "id": "d10b9787-c8a5-4b90-a221-da25c7771954",
   "metadata": {
    "tags": []
   },
   "outputs": [
    {
     "data": {
      "text/plain": [
       "1444"
      ]
     },
     "execution_count": 801,
     "metadata": {},
     "output_type": "execute_result"
    }
   ],
   "source": [
    "len(chunks)"
   ]
  },
  {
   "cell_type": "code",
   "execution_count": 804,
   "id": "f735ceed-6c40-4c68-8b46-8d4d7d400ee5",
   "metadata": {
    "tags": []
   },
   "outputs": [
    {
     "data": {
      "image/png": "[encoded data removed]",
      "text/plain": [
       "<Figure size 800x500 with 1 Axes>"
      ]
     },
     "metadata": {},
     "output_type": "display_data"
    },
    {
     "data": {
      "image/png": "[encoded data removed]",
      "text/plain": [
       "<Figure size 800x500 with 1 Axes>"
      ]
     },
     "metadata": {},
     "output_type": "display_data"
    },
    {
     "data": {
      "image/png": "[encoded data removed]",
      "text/plain": [
       "<Figure size 800x500 with 1 Axes>"
      ]
     },
     "metadata": {},
     "output_type": "display_data"
    }
   ],
   "source": [
    "for current_chunk in chunks[33:36]:\n",
    "    plot_brake_influence(current_chunk)"
   ]
  },
  {
   "cell_type": "code",
   "execution_count": null,
   "id": "216d98d9-9c44-4944-a1c0-3d570cfd8bb0",
   "metadata": {},
   "outputs": [],
   "source": []
  }
 ],
 "metadata": {
  "kernelspec": {
   "display_name": "Transformers (Python 3.11)",
   "language": "python",
   "name": "python3"
  },
  "language_info": {
   "codemirror_mode": {
    "name": "ipython",
    "version": 3
   },
   "file_extension": ".py",
   "mimetype": "text/x-python",
   "name": "python",
   "nbconvert_exporter": "python",
   "pygments_lexer": "ipython3",
   "version": "3.11.6"
  }
 },
 "nbformat": 4,
 "nbformat_minor": 5
}
